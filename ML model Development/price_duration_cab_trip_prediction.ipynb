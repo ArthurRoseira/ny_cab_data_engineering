{
 "cells": [
  {
   "cell_type": "markdown",
   "metadata": {},
   "source": [
    "# NY CAB DATA\n",
    "## Price and Trip duration Prediction"
   ]
  },
  {
   "cell_type": "markdown",
   "metadata": {},
   "source": [
    "### IMPORTANT: Data is stored into Postgres Image"
   ]
  },
  {
   "cell_type": "code",
   "execution_count": 1,
   "metadata": {},
   "outputs": [],
   "source": [
    "import pandas as pd\n",
    "from pyspark.sql import SparkSession\n",
    "import psycopg2 as pg\n",
    "import numpy as np \n",
    "import warnings\n",
    "import os\n",
    "warnings.filterwarnings('ignore')\n",
    "pd.options.plotting.backend = \"plotly\""
   ]
  },
  {
   "cell_type": "code",
   "execution_count": 13,
   "metadata": {},
   "outputs": [],
   "source": [
    "from pyspark.sql.functions import *"
   ]
  },
  {
   "cell_type": "markdown",
   "metadata": {},
   "source": [
    "### Setting Up Spark "
   ]
  },
  {
   "cell_type": "code",
   "execution_count": 2,
   "metadata": {},
   "outputs": [
    {
     "data": {
      "text/plain": [
       "('c:\\\\Users\\\\Olist\\\\OneDrive\\\\Ambiente de Trabalho\\\\Projects\\\\ny_cab_app\\\\docker_sql\\\\postgresql-42.5.0.jar',\n",
       " True)"
      ]
     },
     "execution_count": 2,
     "metadata": {},
     "output_type": "execute_result"
    }
   ],
   "source": [
    "jar_path = os.path.join(os.path.dirname(os.path.abspath('')),'docker_sql','postgresql-42.5.0.jar')\n",
    "jar_path, os.path.isfile(jar_path)"
   ]
  },
  {
   "cell_type": "code",
   "execution_count": 3,
   "metadata": {},
   "outputs": [],
   "source": [
    "postgres_url = f\"jdbc:postgresql://localhost:5432/ny_taxi\""
   ]
  },
  {
   "cell_type": "code",
   "execution_count": 4,
   "metadata": {},
   "outputs": [],
   "source": [
    "spark = SparkSession.builder.appName(\"ML_model\").config(\"spark.jars\", jar_path).config(\"spark.driver.memory\", \"15g\").getOrCreate()"
   ]
  },
  {
   "cell_type": "markdown",
   "metadata": {},
   "source": [
    "### Loading Data"
   ]
  },
  {
   "cell_type": "code",
   "execution_count": 5,
   "metadata": {},
   "outputs": [
    {
     "name": "stdout",
     "output_type": "stream",
     "text": [
      "+--------+--------------------+---------------------+---------------+-------------+----------+------------------+------------+------------+------------+-----------+-----+-------+----------+------------+---------------------+------------+--------------------+-----------+\n",
      "|VendorID|tpep_pickup_datetime|tpep_dropoff_datetime|passenger_count|trip_distance|RatecodeID|store_and_fwd_flag|PULocationID|DOLocationID|payment_type|fare_amount|extra|mta_tax|tip_amount|tolls_amount|improvement_surcharge|total_amount|congestion_surcharge|airport_fee|\n",
      "+--------+--------------------+---------------------+---------------+-------------+----------+------------------+------------+------------+------------+-----------+-----+-------+----------+------------+---------------------+------------+--------------------+-----------+\n",
      "|       2| 2022-06-30 17:03:42|  2022-06-30 17:20:15|            2.0|          1.1|       1.0|                 N|         142|          48|           1|       11.0|  1.0|    0.5|      3.82|         0.0|                  0.3|       19.12|                 2.5|        0.0|\n",
      "|       2| 2022-06-30 17:29:51|  2022-06-30 17:49:05|            1.0|         2.22|       1.0|                 N|         143|         186|           2|       13.0|  1.0|    0.5|       0.0|         0.0|                  0.3|        17.3|                 2.5|        0.0|\n",
      "|       2| 2022-06-30 17:50:25|  2022-06-30 18:06:01|            1.0|         2.21|       1.0|                 N|         186|          79|           2|       11.5|  1.0|    0.5|       0.0|         0.0|                  0.3|        15.8|                 2.5|        0.0|\n",
      "|       1| 2022-06-30 17:49:03|  2022-06-30 17:53:09|            3.0|          1.0|       1.0|                 N|         246|         158|           1|        5.0|  3.5|    0.5|      1.86|         0.0|                  0.3|       11.16|                 2.5|        0.0|\n",
      "|       1| 2022-06-30 17:54:13|  2022-06-30 18:11:56|            2.0|          1.7|       1.0|                 N|         158|         148|           1|       11.5|  3.5|    0.5|      3.15|         0.0|                  0.3|       18.95|                 2.5|        0.0|\n",
      "+--------+--------------------+---------------------+---------------+-------------+----------+------------------+------------+------------+------------+-----------+-----+-------+----------+------------+---------------------+------------+--------------------+-----------+\n",
      "only showing top 5 rows\n",
      "\n"
     ]
    }
   ],
   "source": [
    "df = spark.read.format(\"jdbc\").options(\n",
    "                url=postgres_url,\n",
    "                driver=\"org.postgresql.Driver\",\n",
    "                dbtable='ny_taxi',\n",
    "                user='root',\n",
    "                password='root'\n",
    "                ).load()\n",
    "df.show(5)"
   ]
  },
  {
   "cell_type": "code",
   "execution_count": 6,
   "metadata": {},
   "outputs": [
    {
     "name": "stdout",
     "output_type": "stream",
     "text": [
      "root\n",
      " |-- VendorID: long (nullable = true)\n",
      " |-- tpep_pickup_datetime: timestamp (nullable = true)\n",
      " |-- tpep_dropoff_datetime: timestamp (nullable = true)\n",
      " |-- passenger_count: double (nullable = true)\n",
      " |-- trip_distance: double (nullable = true)\n",
      " |-- RatecodeID: double (nullable = true)\n",
      " |-- store_and_fwd_flag: string (nullable = true)\n",
      " |-- PULocationID: long (nullable = true)\n",
      " |-- DOLocationID: long (nullable = true)\n",
      " |-- payment_type: long (nullable = true)\n",
      " |-- fare_amount: double (nullable = true)\n",
      " |-- extra: double (nullable = true)\n",
      " |-- mta_tax: double (nullable = true)\n",
      " |-- tip_amount: double (nullable = true)\n",
      " |-- tolls_amount: double (nullable = true)\n",
      " |-- improvement_surcharge: double (nullable = true)\n",
      " |-- total_amount: double (nullable = true)\n",
      " |-- congestion_surcharge: double (nullable = true)\n",
      " |-- airport_fee: double (nullable = true)\n",
      "\n"
     ]
    }
   ],
   "source": [
    "df.printSchema()"
   ]
  },
  {
   "cell_type": "markdown",
   "metadata": {},
   "source": [
    "## Data Cleaning And Validation"
   ]
  },
  {
   "cell_type": "code",
   "execution_count": 9,
   "metadata": {},
   "outputs": [
    {
     "name": "stdout",
     "output_type": "stream",
     "text": [
      "+--------+--------------------+---------------------+---------------+-------------+----------+------------------+------------+------------+------------+-----------+-----+-------+----------+------------+---------------------+------------+--------------------+-----------+\n",
      "|VendorID|tpep_pickup_datetime|tpep_dropoff_datetime|passenger_count|trip_distance|RatecodeID|store_and_fwd_flag|PULocationID|DOLocationID|payment_type|fare_amount|extra|mta_tax|tip_amount|tolls_amount|improvement_surcharge|total_amount|congestion_surcharge|airport_fee|\n",
      "+--------+--------------------+---------------------+---------------+-------------+----------+------------------+------------+------------+------------+-----------+-----+-------+----------+------------+---------------------+------------+--------------------+-----------+\n",
      "|       0|                   0|                    0|         132448|            0|    132448|            132448|           0|           0|           0|          0|    0|      0|         0|           0|                    0|           0|              132448|     132448|\n",
      "+--------+--------------------+---------------------+---------------+-------------+----------+------------------+------------+------------+------------+-----------+-----+-------+----------+------------+---------------------+------------+--------------------+-----------+\n",
      "\n"
     ]
    }
   ],
   "source": [
    "df.select([count(when(col(c).isNull(), c)).alias(c) for c in df.columns]).show()"
   ]
  },
  {
   "cell_type": "code",
   "execution_count": 17,
   "metadata": {},
   "outputs": [],
   "source": [
    "df = df.withColumn('pickup_day_shift', round(hour(df.tpep_pickup_datetime)/5,0))"
   ]
  },
  {
   "cell_type": "code",
   "execution_count": 18,
   "metadata": {},
   "outputs": [],
   "source": [
    "df = df.withColumn('trip_duration', (col(\"tpep_dropoff_datetime\").cast(\"long\") - col('tpep_pickup_datetime').cast(\"long\"))/3600)"
   ]
  },
  {
   "cell_type": "code",
   "execution_count": 19,
   "metadata": {},
   "outputs": [
    {
     "data": {
      "text/html": [
       "<div>\n",
       "<style scoped>\n",
       "    .dataframe tbody tr th:only-of-type {\n",
       "        vertical-align: middle;\n",
       "    }\n",
       "\n",
       "    .dataframe tbody tr th {\n",
       "        vertical-align: top;\n",
       "    }\n",
       "\n",
       "    .dataframe thead th {\n",
       "        text-align: right;\n",
       "    }\n",
       "</style>\n",
       "<table border=\"1\" class=\"dataframe\">\n",
       "  <thead>\n",
       "    <tr style=\"text-align: right;\">\n",
       "      <th></th>\n",
       "      <th>summary</th>\n",
       "      <th>VendorID</th>\n",
       "      <th>passenger_count</th>\n",
       "      <th>trip_distance</th>\n",
       "      <th>RatecodeID</th>\n",
       "      <th>store_and_fwd_flag</th>\n",
       "      <th>PULocationID</th>\n",
       "      <th>DOLocationID</th>\n",
       "      <th>payment_type</th>\n",
       "      <th>fare_amount</th>\n",
       "      <th>extra</th>\n",
       "      <th>mta_tax</th>\n",
       "      <th>tip_amount</th>\n",
       "      <th>tolls_amount</th>\n",
       "      <th>improvement_surcharge</th>\n",
       "      <th>total_amount</th>\n",
       "      <th>congestion_surcharge</th>\n",
       "      <th>airport_fee</th>\n",
       "      <th>pickup_day_shift</th>\n",
       "      <th>trip_duration</th>\n",
       "    </tr>\n",
       "  </thead>\n",
       "  <tbody>\n",
       "    <tr>\n",
       "      <th>0</th>\n",
       "      <td>count</td>\n",
       "      <td>3558124</td>\n",
       "      <td>3425676</td>\n",
       "      <td>3558124</td>\n",
       "      <td>3425676</td>\n",
       "      <td>3425676</td>\n",
       "      <td>3558124</td>\n",
       "      <td>3558124</td>\n",
       "      <td>3558124</td>\n",
       "      <td>3558124</td>\n",
       "      <td>3558124</td>\n",
       "      <td>3558124</td>\n",
       "      <td>3558124</td>\n",
       "      <td>3558124</td>\n",
       "      <td>3558124</td>\n",
       "      <td>3558124</td>\n",
       "      <td>3425676</td>\n",
       "      <td>3425676</td>\n",
       "      <td>3558124</td>\n",
       "      <td>3558124</td>\n",
       "    </tr>\n",
       "    <tr>\n",
       "      <th>1</th>\n",
       "      <td>mean</td>\n",
       "      <td>1.7142162555324099</td>\n",
       "      <td>1.3990418241538312</td>\n",
       "      <td>5.9682160009039915</td>\n",
       "      <td>1.4181633055782275</td>\n",
       "      <td>None</td>\n",
       "      <td>164.60850830381403</td>\n",
       "      <td>162.41222846646153</td>\n",
       "      <td>1.1818587547820143</td>\n",
       "      <td>15.249263010511488</td>\n",
       "      <td>1.0210053809254513</td>\n",
       "      <td>0.48841993702299336</td>\n",
       "      <td>2.79584264067268</td>\n",
       "      <td>0.5622156198065205</td>\n",
       "      <td>0.2960561239765024</td>\n",
       "      <td>22.11841523449738</td>\n",
       "      <td>2.2823746320434273</td>\n",
       "      <td>0.09573365957551153</td>\n",
       "      <td>2.8289208020855936</td>\n",
       "      <td>7.021806643752303</td>\n",
       "    </tr>\n",
       "    <tr>\n",
       "      <th>2</th>\n",
       "      <td>stddev</td>\n",
       "      <td>0.4877038929139458</td>\n",
       "      <td>0.9607125717723145</td>\n",
       "      <td>594.1291221670822</td>\n",
       "      <td>5.7025739315699235</td>\n",
       "      <td>None</td>\n",
       "      <td>65.54112126952948</td>\n",
       "      <td>70.16921804762775</td>\n",
       "      <td>0.5104356496092155</td>\n",
       "      <td>212.1835543481664</td>\n",
       "      <td>1.2546159272315107</td>\n",
       "      <td>0.09378859572202226</td>\n",
       "      <td>3.5816848202701226</td>\n",
       "      <td>2.1211725054018005</td>\n",
       "      <td>0.04810925269322907</td>\n",
       "      <td>212.4622892076511</td>\n",
       "      <td>0.7490436767386998</td>\n",
       "      <td>0.3357336222458647</td>\n",
       "      <td>1.2128718213090859</td>\n",
       "      <td>1075.2233002350895</td>\n",
       "    </tr>\n",
       "    <tr>\n",
       "      <th>3</th>\n",
       "      <td>min</td>\n",
       "      <td>1</td>\n",
       "      <td>0.0</td>\n",
       "      <td>0.0</td>\n",
       "      <td>1.0</td>\n",
       "      <td>N</td>\n",
       "      <td>1</td>\n",
       "      <td>1</td>\n",
       "      <td>0</td>\n",
       "      <td>-907.0</td>\n",
       "      <td>-7.0</td>\n",
       "      <td>-0.5</td>\n",
       "      <td>-80.08</td>\n",
       "      <td>-63.2</td>\n",
       "      <td>-0.3</td>\n",
       "      <td>-911.55</td>\n",
       "      <td>-2.5</td>\n",
       "      <td>-1.25</td>\n",
       "      <td>0.0</td>\n",
       "      <td>-11.306666666666667</td>\n",
       "    </tr>\n",
       "    <tr>\n",
       "      <th>4</th>\n",
       "      <td>max</td>\n",
       "      <td>6</td>\n",
       "      <td>9.0</td>\n",
       "      <td>307007.11</td>\n",
       "      <td>99.0</td>\n",
       "      <td>Y</td>\n",
       "      <td>265</td>\n",
       "      <td>265</td>\n",
       "      <td>4</td>\n",
       "      <td>395844.94</td>\n",
       "      <td>8.25</td>\n",
       "      <td>3.3</td>\n",
       "      <td>1400.16</td>\n",
       "      <td>800.09</td>\n",
       "      <td>0.3</td>\n",
       "      <td>395848.24</td>\n",
       "      <td>2.75</td>\n",
       "      <td>1.25</td>\n",
       "      <td>5.0</td>\n",
       "      <td>172034.25305555554</td>\n",
       "    </tr>\n",
       "  </tbody>\n",
       "</table>\n",
       "</div>"
      ],
      "text/plain": [
       "  summary            VendorID     passenger_count       trip_distance  \\\n",
       "0   count             3558124             3425676             3558124   \n",
       "1    mean  1.7142162555324099  1.3990418241538312  5.9682160009039915   \n",
       "2  stddev  0.4877038929139458  0.9607125717723145   594.1291221670822   \n",
       "3     min                   1                 0.0                 0.0   \n",
       "4     max                   6                 9.0           307007.11   \n",
       "\n",
       "           RatecodeID store_and_fwd_flag        PULocationID  \\\n",
       "0             3425676            3425676             3558124   \n",
       "1  1.4181633055782275               None  164.60850830381403   \n",
       "2  5.7025739315699235               None   65.54112126952948   \n",
       "3                 1.0                  N                   1   \n",
       "4                99.0                  Y                 265   \n",
       "\n",
       "         DOLocationID        payment_type         fare_amount  \\\n",
       "0             3558124             3558124             3558124   \n",
       "1  162.41222846646153  1.1818587547820143  15.249263010511488   \n",
       "2   70.16921804762775  0.5104356496092155   212.1835543481664   \n",
       "3                   1                   0              -907.0   \n",
       "4                 265                   4           395844.94   \n",
       "\n",
       "                extra              mta_tax          tip_amount  \\\n",
       "0             3558124              3558124             3558124   \n",
       "1  1.0210053809254513  0.48841993702299336    2.79584264067268   \n",
       "2  1.2546159272315107  0.09378859572202226  3.5816848202701226   \n",
       "3                -7.0                 -0.5              -80.08   \n",
       "4                8.25                  3.3             1400.16   \n",
       "\n",
       "         tolls_amount improvement_surcharge       total_amount  \\\n",
       "0             3558124               3558124            3558124   \n",
       "1  0.5622156198065205    0.2960561239765024  22.11841523449738   \n",
       "2  2.1211725054018005   0.04810925269322907  212.4622892076511   \n",
       "3               -63.2                  -0.3            -911.55   \n",
       "4              800.09                   0.3          395848.24   \n",
       "\n",
       "  congestion_surcharge          airport_fee    pickup_day_shift  \\\n",
       "0              3425676              3425676             3558124   \n",
       "1   2.2823746320434273  0.09573365957551153  2.8289208020855936   \n",
       "2   0.7490436767386998   0.3357336222458647  1.2128718213090859   \n",
       "3                 -2.5                -1.25                 0.0   \n",
       "4                 2.75                 1.25                 5.0   \n",
       "\n",
       "         trip_duration  \n",
       "0              3558124  \n",
       "1    7.021806643752303  \n",
       "2   1075.2233002350895  \n",
       "3  -11.306666666666667  \n",
       "4   172034.25305555554  "
      ]
     },
     "execution_count": 19,
     "metadata": {},
     "output_type": "execute_result"
    }
   ],
   "source": [
    "df.describe().toPandas()"
   ]
  },
  {
   "cell_type": "code",
   "execution_count": 25,
   "metadata": {},
   "outputs": [
    {
     "data": {
      "text/plain": [
       "[0.38333333333333336]"
      ]
     },
     "execution_count": 25,
     "metadata": {},
     "output_type": "execute_result"
    }
   ],
   "source": [
    "df.approxQuantile(\"trip_duration\", [0.8],0.05)"
   ]
  },
  {
   "cell_type": "markdown",
   "metadata": {},
   "source": [
    "#### Drop Non Numeric columns"
   ]
  },
  {
   "cell_type": "code",
   "execution_count": 29,
   "metadata": {},
   "outputs": [],
   "source": [
    "df = df.drop(*('tpep_pickup_datetime','tpep_dropoff_datetime','store_and_fwd_flag'))"
   ]
  },
  {
   "cell_type": "markdown",
   "metadata": {},
   "source": [
    "#### Filtering All Negative Values"
   ]
  },
  {
   "cell_type": "code",
   "execution_count": 34,
   "metadata": {},
   "outputs": [
    {
     "data": {
      "text/html": [
       "<div>\n",
       "<style scoped>\n",
       "    .dataframe tbody tr th:only-of-type {\n",
       "        vertical-align: middle;\n",
       "    }\n",
       "\n",
       "    .dataframe tbody tr th {\n",
       "        vertical-align: top;\n",
       "    }\n",
       "\n",
       "    .dataframe thead th {\n",
       "        text-align: right;\n",
       "    }\n",
       "</style>\n",
       "<table border=\"1\" class=\"dataframe\">\n",
       "  <thead>\n",
       "    <tr style=\"text-align: right;\">\n",
       "      <th></th>\n",
       "      <th>summary</th>\n",
       "      <th>VendorID</th>\n",
       "      <th>passenger_count</th>\n",
       "      <th>trip_distance</th>\n",
       "      <th>RatecodeID</th>\n",
       "      <th>store_and_fwd_flag</th>\n",
       "      <th>PULocationID</th>\n",
       "      <th>DOLocationID</th>\n",
       "      <th>payment_type</th>\n",
       "      <th>fare_amount</th>\n",
       "      <th>extra</th>\n",
       "      <th>mta_tax</th>\n",
       "      <th>tip_amount</th>\n",
       "      <th>tolls_amount</th>\n",
       "      <th>improvement_surcharge</th>\n",
       "      <th>total_amount</th>\n",
       "      <th>congestion_surcharge</th>\n",
       "      <th>airport_fee</th>\n",
       "      <th>pickup_day_shift</th>\n",
       "      <th>trip_duration</th>\n",
       "    </tr>\n",
       "  </thead>\n",
       "  <tbody>\n",
       "    <tr>\n",
       "      <th>0</th>\n",
       "      <td>count</td>\n",
       "      <td>3558124</td>\n",
       "      <td>3425676</td>\n",
       "      <td>3558124</td>\n",
       "      <td>3425676</td>\n",
       "      <td>0</td>\n",
       "      <td>3558124</td>\n",
       "      <td>3558124</td>\n",
       "      <td>3558124</td>\n",
       "      <td>3535708</td>\n",
       "      <td>3547064</td>\n",
       "      <td>3536255</td>\n",
       "      <td>3557709</td>\n",
       "      <td>3557040</td>\n",
       "      <td>3535453</td>\n",
       "      <td>3535411</td>\n",
       "      <td>3408036</td>\n",
       "      <td>3423248</td>\n",
       "      <td>3558124</td>\n",
       "      <td>3556903</td>\n",
       "    </tr>\n",
       "    <tr>\n",
       "      <th>1</th>\n",
       "      <td>mean</td>\n",
       "      <td>1.7142162555324099</td>\n",
       "      <td>1.3990418241538312</td>\n",
       "      <td>5.9682160009039915</td>\n",
       "      <td>1.4181633055782275</td>\n",
       "      <td>None</td>\n",
       "      <td>164.60850830381403</td>\n",
       "      <td>162.41222846646153</td>\n",
       "      <td>1.1818587547820143</td>\n",
       "      <td>15.43702292440813</td>\n",
       "      <td>1.0266727637279707</td>\n",
       "      <td>0.49453242766712274</td>\n",
       "      <td>2.7964183242645344</td>\n",
       "      <td>0.5647434468008516</td>\n",
       "      <td>0.29987831830003797</td>\n",
       "      <td>22.37457250876367</td>\n",
       "      <td>2.307128211086972</td>\n",
       "      <td>0.09668814529359251</td>\n",
       "      <td>2.8289208020855936</td>\n",
       "      <td>7.024222134706972</td>\n",
       "    </tr>\n",
       "    <tr>\n",
       "      <th>2</th>\n",
       "      <td>stddev</td>\n",
       "      <td>0.4877038929139458</td>\n",
       "      <td>0.9607125717723145</td>\n",
       "      <td>594.1291221670822</td>\n",
       "      <td>5.7025739315699235</td>\n",
       "      <td>None</td>\n",
       "      <td>65.54112126952948</td>\n",
       "      <td>70.16921804762775</td>\n",
       "      <td>0.5104356496092155</td>\n",
       "      <td>212.8345808604923</td>\n",
       "      <td>1.2518560199877493</td>\n",
       "      <td>0.05264689010833661</td>\n",
       "      <td>3.580408653743414</td>\n",
       "      <td>2.1151886810572993</td>\n",
       "      <td>0.006040672123936889</td>\n",
       "      <td>213.1116871254695</td>\n",
       "      <td>0.6670658499920066</td>\n",
       "      <td>0.3339335514012846</td>\n",
       "      <td>1.2128718213090859</td>\n",
       "      <td>1075.4078257922831</td>\n",
       "    </tr>\n",
       "    <tr>\n",
       "      <th>3</th>\n",
       "      <td>min</td>\n",
       "      <td>1</td>\n",
       "      <td>0.0</td>\n",
       "      <td>0.0</td>\n",
       "      <td>1.0</td>\n",
       "      <td>None</td>\n",
       "      <td>1</td>\n",
       "      <td>1</td>\n",
       "      <td>0</td>\n",
       "      <td>0.0</td>\n",
       "      <td>0.0</td>\n",
       "      <td>0.0</td>\n",
       "      <td>0.0</td>\n",
       "      <td>0.0</td>\n",
       "      <td>0.0</td>\n",
       "      <td>0.0</td>\n",
       "      <td>0.0</td>\n",
       "      <td>0.0</td>\n",
       "      <td>0.0</td>\n",
       "      <td>0.0</td>\n",
       "    </tr>\n",
       "    <tr>\n",
       "      <th>4</th>\n",
       "      <td>max</td>\n",
       "      <td>6</td>\n",
       "      <td>9.0</td>\n",
       "      <td>307007.11</td>\n",
       "      <td>99.0</td>\n",
       "      <td>None</td>\n",
       "      <td>265</td>\n",
       "      <td>265</td>\n",
       "      <td>4</td>\n",
       "      <td>395844.94</td>\n",
       "      <td>8.25</td>\n",
       "      <td>3.3</td>\n",
       "      <td>1400.16</td>\n",
       "      <td>800.09</td>\n",
       "      <td>0.3</td>\n",
       "      <td>395848.24</td>\n",
       "      <td>2.75</td>\n",
       "      <td>1.25</td>\n",
       "      <td>5.0</td>\n",
       "      <td>172034.25305555554</td>\n",
       "    </tr>\n",
       "  </tbody>\n",
       "</table>\n",
       "</div>"
      ],
      "text/plain": [
       "  summary            VendorID     passenger_count       trip_distance  \\\n",
       "0   count             3558124             3425676             3558124   \n",
       "1    mean  1.7142162555324099  1.3990418241538312  5.9682160009039915   \n",
       "2  stddev  0.4877038929139458  0.9607125717723145   594.1291221670822   \n",
       "3     min                   1                 0.0                 0.0   \n",
       "4     max                   6                 9.0           307007.11   \n",
       "\n",
       "           RatecodeID store_and_fwd_flag        PULocationID  \\\n",
       "0             3425676                  0             3558124   \n",
       "1  1.4181633055782275               None  164.60850830381403   \n",
       "2  5.7025739315699235               None   65.54112126952948   \n",
       "3                 1.0               None                   1   \n",
       "4                99.0               None                 265   \n",
       "\n",
       "         DOLocationID        payment_type        fare_amount  \\\n",
       "0             3558124             3558124            3535708   \n",
       "1  162.41222846646153  1.1818587547820143  15.43702292440813   \n",
       "2   70.16921804762775  0.5104356496092155  212.8345808604923   \n",
       "3                   1                   0                0.0   \n",
       "4                 265                   4          395844.94   \n",
       "\n",
       "                extra              mta_tax          tip_amount  \\\n",
       "0             3547064              3536255             3557709   \n",
       "1  1.0266727637279707  0.49453242766712274  2.7964183242645344   \n",
       "2  1.2518560199877493  0.05264689010833661   3.580408653743414   \n",
       "3                 0.0                  0.0                 0.0   \n",
       "4                8.25                  3.3             1400.16   \n",
       "\n",
       "         tolls_amount improvement_surcharge       total_amount  \\\n",
       "0             3557040               3535453            3535411   \n",
       "1  0.5647434468008516   0.29987831830003797  22.37457250876367   \n",
       "2  2.1151886810572993  0.006040672123936889  213.1116871254695   \n",
       "3                 0.0                   0.0                0.0   \n",
       "4              800.09                   0.3          395848.24   \n",
       "\n",
       "  congestion_surcharge          airport_fee    pickup_day_shift  \\\n",
       "0              3408036              3423248             3558124   \n",
       "1    2.307128211086972  0.09668814529359251  2.8289208020855936   \n",
       "2   0.6670658499920066   0.3339335514012846  1.2128718213090859   \n",
       "3                  0.0                  0.0                 0.0   \n",
       "4                 2.75                 1.25                 5.0   \n",
       "\n",
       "        trip_duration  \n",
       "0             3556903  \n",
       "1   7.024222134706972  \n",
       "2  1075.4078257922831  \n",
       "3                 0.0  \n",
       "4  172034.25305555554  "
      ]
     },
     "execution_count": 34,
     "metadata": {},
     "output_type": "execute_result"
    }
   ],
   "source": [
    "df.select([(when(col(c)>=0, col(c))).alias(c) for c in df.columns]).describe().toPandas()"
   ]
  },
  {
   "cell_type": "code",
   "execution_count": 35,
   "metadata": {},
   "outputs": [],
   "source": [
    "df  = df.select([(when(col(c)>=0, col(c))).alias(c) for c in df.columns])"
   ]
  },
  {
   "cell_type": "code",
   "execution_count": 37,
   "metadata": {},
   "outputs": [
    {
     "ename": "IllegalArgumentException",
     "evalue": "requirement failed: Quantile calculation for column store_and_fwd_flag with data type StringType is not supported.",
     "output_type": "error",
     "traceback": [
      "\u001b[1;31m---------------------------------------------------------------------------\u001b[0m",
      "\u001b[1;31mIllegalArgumentException\u001b[0m                  Traceback (most recent call last)",
      "\u001b[1;32m~\\AppData\\Local\\Temp/ipykernel_10624/1995570362.py\u001b[0m in \u001b[0;36m<module>\u001b[1;34m\u001b[0m\n\u001b[1;32m----> 1\u001b[1;33m \u001b[0mdict\u001b[0m\u001b[1;33m(\u001b[0m\u001b[1;33m[\u001b[0m\u001b[1;33m(\u001b[0m\u001b[0mc\u001b[0m\u001b[1;33m,\u001b[0m\u001b[0mdf\u001b[0m\u001b[1;33m.\u001b[0m\u001b[0mapproxQuantile\u001b[0m\u001b[1;33m(\u001b[0m\u001b[0mc\u001b[0m\u001b[1;33m,\u001b[0m \u001b[1;33m[\u001b[0m\u001b[1;36m0.8\u001b[0m\u001b[1;33m]\u001b[0m\u001b[1;33m,\u001b[0m\u001b[1;36m0.05\u001b[0m\u001b[1;33m)\u001b[0m\u001b[1;33m)\u001b[0m \u001b[1;32mfor\u001b[0m \u001b[0mc\u001b[0m \u001b[1;32min\u001b[0m \u001b[0mdf\u001b[0m\u001b[1;33m.\u001b[0m\u001b[0mcolumns\u001b[0m\u001b[1;33m]\u001b[0m\u001b[1;33m)\u001b[0m\u001b[1;33m\u001b[0m\u001b[1;33m\u001b[0m\u001b[0m\n\u001b[0m",
      "\u001b[1;32m~\\AppData\\Local\\Temp/ipykernel_10624/1995570362.py\u001b[0m in \u001b[0;36m<listcomp>\u001b[1;34m(.0)\u001b[0m\n\u001b[1;32m----> 1\u001b[1;33m \u001b[0mdict\u001b[0m\u001b[1;33m(\u001b[0m\u001b[1;33m[\u001b[0m\u001b[1;33m(\u001b[0m\u001b[0mc\u001b[0m\u001b[1;33m,\u001b[0m\u001b[0mdf\u001b[0m\u001b[1;33m.\u001b[0m\u001b[0mapproxQuantile\u001b[0m\u001b[1;33m(\u001b[0m\u001b[0mc\u001b[0m\u001b[1;33m,\u001b[0m \u001b[1;33m[\u001b[0m\u001b[1;36m0.8\u001b[0m\u001b[1;33m]\u001b[0m\u001b[1;33m,\u001b[0m\u001b[1;36m0.05\u001b[0m\u001b[1;33m)\u001b[0m\u001b[1;33m)\u001b[0m \u001b[1;32mfor\u001b[0m \u001b[0mc\u001b[0m \u001b[1;32min\u001b[0m \u001b[0mdf\u001b[0m\u001b[1;33m.\u001b[0m\u001b[0mcolumns\u001b[0m\u001b[1;33m]\u001b[0m\u001b[1;33m)\u001b[0m\u001b[1;33m\u001b[0m\u001b[1;33m\u001b[0m\u001b[0m\n\u001b[0m",
      "\u001b[1;32mc:\\Users\\Olist\\AppData\\Local\\Programs\\Python\\Python39\\lib\\site-packages\\pyspark\\sql\\dataframe.py\u001b[0m in \u001b[0;36mapproxQuantile\u001b[1;34m(self, col, probabilities, relativeError)\u001b[0m\n\u001b[0;32m   2849\u001b[0m         \u001b[0mrelativeError\u001b[0m \u001b[1;33m=\u001b[0m \u001b[0mfloat\u001b[0m\u001b[1;33m(\u001b[0m\u001b[0mrelativeError\u001b[0m\u001b[1;33m)\u001b[0m\u001b[1;33m\u001b[0m\u001b[1;33m\u001b[0m\u001b[0m\n\u001b[0;32m   2850\u001b[0m \u001b[1;33m\u001b[0m\u001b[0m\n\u001b[1;32m-> 2851\u001b[1;33m         \u001b[0mjaq\u001b[0m \u001b[1;33m=\u001b[0m \u001b[0mself\u001b[0m\u001b[1;33m.\u001b[0m\u001b[0m_jdf\u001b[0m\u001b[1;33m.\u001b[0m\u001b[0mstat\u001b[0m\u001b[1;33m(\u001b[0m\u001b[1;33m)\u001b[0m\u001b[1;33m.\u001b[0m\u001b[0mapproxQuantile\u001b[0m\u001b[1;33m(\u001b[0m\u001b[0mcol\u001b[0m\u001b[1;33m,\u001b[0m \u001b[0mprobabilities\u001b[0m\u001b[1;33m,\u001b[0m \u001b[0mrelativeError\u001b[0m\u001b[1;33m)\u001b[0m\u001b[1;33m\u001b[0m\u001b[1;33m\u001b[0m\u001b[0m\n\u001b[0m\u001b[0;32m   2852\u001b[0m         \u001b[0mjaq_list\u001b[0m \u001b[1;33m=\u001b[0m \u001b[1;33m[\u001b[0m\u001b[0mlist\u001b[0m\u001b[1;33m(\u001b[0m\u001b[0mj\u001b[0m\u001b[1;33m)\u001b[0m \u001b[1;32mfor\u001b[0m \u001b[0mj\u001b[0m \u001b[1;32min\u001b[0m \u001b[0mjaq\u001b[0m\u001b[1;33m]\u001b[0m\u001b[1;33m\u001b[0m\u001b[1;33m\u001b[0m\u001b[0m\n\u001b[0;32m   2853\u001b[0m         \u001b[1;32mreturn\u001b[0m \u001b[0mjaq_list\u001b[0m\u001b[1;33m[\u001b[0m\u001b[1;36m0\u001b[0m\u001b[1;33m]\u001b[0m \u001b[1;32mif\u001b[0m \u001b[0misStr\u001b[0m \u001b[1;32melse\u001b[0m \u001b[0mjaq_list\u001b[0m\u001b[1;33m\u001b[0m\u001b[1;33m\u001b[0m\u001b[0m\n",
      "\u001b[1;32mc:\\Users\\Olist\\AppData\\Local\\Programs\\Python\\Python39\\lib\\site-packages\\py4j\\java_gateway.py\u001b[0m in \u001b[0;36m__call__\u001b[1;34m(self, *args)\u001b[0m\n\u001b[0;32m   1319\u001b[0m \u001b[1;33m\u001b[0m\u001b[0m\n\u001b[0;32m   1320\u001b[0m         \u001b[0manswer\u001b[0m \u001b[1;33m=\u001b[0m \u001b[0mself\u001b[0m\u001b[1;33m.\u001b[0m\u001b[0mgateway_client\u001b[0m\u001b[1;33m.\u001b[0m\u001b[0msend_command\u001b[0m\u001b[1;33m(\u001b[0m\u001b[0mcommand\u001b[0m\u001b[1;33m)\u001b[0m\u001b[1;33m\u001b[0m\u001b[1;33m\u001b[0m\u001b[0m\n\u001b[1;32m-> 1321\u001b[1;33m         return_value = get_return_value(\n\u001b[0m\u001b[0;32m   1322\u001b[0m             answer, self.gateway_client, self.target_id, self.name)\n\u001b[0;32m   1323\u001b[0m \u001b[1;33m\u001b[0m\u001b[0m\n",
      "\u001b[1;32mc:\\Users\\Olist\\AppData\\Local\\Programs\\Python\\Python39\\lib\\site-packages\\pyspark\\sql\\utils.py\u001b[0m in \u001b[0;36mdeco\u001b[1;34m(*a, **kw)\u001b[0m\n\u001b[0;32m    194\u001b[0m                 \u001b[1;31m# Hide where the exception came from that shows a non-Pythonic\u001b[0m\u001b[1;33m\u001b[0m\u001b[1;33m\u001b[0m\u001b[1;33m\u001b[0m\u001b[0m\n\u001b[0;32m    195\u001b[0m                 \u001b[1;31m# JVM exception message.\u001b[0m\u001b[1;33m\u001b[0m\u001b[1;33m\u001b[0m\u001b[1;33m\u001b[0m\u001b[0m\n\u001b[1;32m--> 196\u001b[1;33m                 \u001b[1;32mraise\u001b[0m \u001b[0mconverted\u001b[0m \u001b[1;32mfrom\u001b[0m \u001b[1;32mNone\u001b[0m\u001b[1;33m\u001b[0m\u001b[1;33m\u001b[0m\u001b[0m\n\u001b[0m\u001b[0;32m    197\u001b[0m             \u001b[1;32melse\u001b[0m\u001b[1;33m:\u001b[0m\u001b[1;33m\u001b[0m\u001b[1;33m\u001b[0m\u001b[0m\n\u001b[0;32m    198\u001b[0m                 \u001b[1;32mraise\u001b[0m\u001b[1;33m\u001b[0m\u001b[1;33m\u001b[0m\u001b[0m\n",
      "\u001b[1;31mIllegalArgumentException\u001b[0m: requirement failed: Quantile calculation for column store_and_fwd_flag with data type StringType is not supported."
     ]
    }
   ],
   "source": [
    "dict([(c,df.approxQuantile(c, [0.8],0.05)) for c in df.columns])"
   ]
  },
  {
   "cell_type": "markdown",
   "metadata": {},
   "source": [
    "## Data Analisys"
   ]
  },
  {
   "cell_type": "markdown",
   "metadata": {},
   "source": [
    "## Model Training"
   ]
  },
  {
   "cell_type": "markdown",
   "metadata": {},
   "source": [
    "## Model Evaluation\n"
   ]
  },
  {
   "cell_type": "markdown",
   "metadata": {},
   "source": [
    "## Model Export"
   ]
  }
 ],
 "metadata": {
  "kernelspec": {
   "display_name": "Python 3.9.2 64-bit",
   "language": "python",
   "name": "python3"
  },
  "language_info": {
   "codemirror_mode": {
    "name": "ipython",
    "version": 3
   },
   "file_extension": ".py",
   "mimetype": "text/x-python",
   "name": "python",
   "nbconvert_exporter": "python",
   "pygments_lexer": "ipython3",
   "version": "3.9.2"
  },
  "orig_nbformat": 4,
  "vscode": {
   "interpreter": {
    "hash": "d94dd623ed3b60412e923742e7bd0b8a9d7db377f4fcacb3cc176f98d3cd8c58"
   }
  }
 },
 "nbformat": 4,
 "nbformat_minor": 2
}
