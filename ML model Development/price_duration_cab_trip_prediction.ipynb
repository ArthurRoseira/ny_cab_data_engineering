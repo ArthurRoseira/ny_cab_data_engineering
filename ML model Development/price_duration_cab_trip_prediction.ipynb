{
 "cells": [
  {
   "cell_type": "markdown",
   "metadata": {},
   "source": [
    "# NY CAB DATA\n",
    "## Price and Trip duration Prediction"
   ]
  },
  {
   "cell_type": "markdown",
   "metadata": {},
   "source": [
    "### IMPORTANT: Data is stored into Postgres Image"
   ]
  },
  {
   "cell_type": "code",
   "execution_count": 1,
   "metadata": {},
   "outputs": [],
   "source": [
    "import pandas as pd\n",
    "from pyspark.sql import SparkSession\n",
    "import psycopg2 as pg\n",
    "import numpy as np \n",
    "import warnings\n",
    "import os\n",
    "warnings.filterwarnings('ignore')\n",
    "pd.options.plotting.backend = \"plotly\""
   ]
  },
  {
   "cell_type": "code",
   "execution_count": 2,
   "metadata": {},
   "outputs": [],
   "source": [
    "from pyspark.sql.functions import *\n",
    "from pyspark.sql.types import *"
   ]
  },
  {
   "cell_type": "markdown",
   "metadata": {},
   "source": [
    "### Setting Up Spark "
   ]
  },
  {
   "cell_type": "code",
   "execution_count": 3,
   "metadata": {},
   "outputs": [
    {
     "data": {
      "text/plain": [
       "('c:\\\\Users\\\\Olist\\\\OneDrive\\\\Ambiente de Trabalho\\\\Projects\\\\ny_cab_app\\\\docker_sql\\\\postgresql-42.5.0.jar',\n",
       " True)"
      ]
     },
     "execution_count": 3,
     "metadata": {},
     "output_type": "execute_result"
    }
   ],
   "source": [
    "jar_path = os.path.join(os.path.dirname(os.path.abspath('')),'docker_sql','postgresql-42.5.0.jar')\n",
    "jar_path, os.path.isfile(jar_path)"
   ]
  },
  {
   "cell_type": "code",
   "execution_count": 4,
   "metadata": {},
   "outputs": [],
   "source": [
    "postgres_url = f\"jdbc:postgresql://localhost:5432/ny_taxi\""
   ]
  },
  {
   "cell_type": "code",
   "execution_count": 5,
   "metadata": {},
   "outputs": [],
   "source": [
    "spark = SparkSession.builder.appName(\"ML_model\").master(\"local\").config(\"spark.jars\", jar_path).config(\"spark.driver.memory\", \"15g\").getOrCreate()"
   ]
  },
  {
   "cell_type": "markdown",
   "metadata": {},
   "source": [
    "### Loading Data"
   ]
  },
  {
   "cell_type": "code",
   "execution_count": 6,
   "metadata": {},
   "outputs": [
    {
     "name": "stdout",
     "output_type": "stream",
     "text": [
      "+--------+--------------------+---------------------+---------------+-------------+----------+------------------+------------+------------+------------+-----------+-----+-------+----------+------------+---------------------+------------+--------------------+-----------+\n",
      "|VendorID|tpep_pickup_datetime|tpep_dropoff_datetime|passenger_count|trip_distance|RatecodeID|store_and_fwd_flag|PULocationID|DOLocationID|payment_type|fare_amount|extra|mta_tax|tip_amount|tolls_amount|improvement_surcharge|total_amount|congestion_surcharge|airport_fee|\n",
      "+--------+--------------------+---------------------+---------------+-------------+----------+------------------+------------+------------+------------+-----------+-----+-------+----------+------------+---------------------+------------+--------------------+-----------+\n",
      "|       1| 2022-06-01 00:25:41|  2022-06-01 00:48:22|            1.0|         11.0|       1.0|                 N|          70|          48|           1|       32.0|  3.0|    0.5|       2.0|        6.55|                  0.3|       44.35|                 2.5|        0.0|\n",
      "|       1| 2022-06-01 00:44:40|  2022-06-01 01:01:48|            1.0|          4.2|       1.0|                 N|         170|         226|           1|       14.0|  3.0|    0.5|       0.0|         0.0|                  0.3|        17.8|                 2.5|        0.0|\n",
      "|       2| 2022-06-01 00:23:07|  2022-06-01 00:39:50|            1.0|         9.49|       1.0|                 N|         264|         113|           1|       26.0|  0.5|    0.5|       5.0|        6.55|                  0.3|        42.6|                 2.5|       1.25|\n",
      "|       1| 2022-06-01 00:25:53|  2022-06-01 00:57:06|            2.0|         12.1|       1.0|                 N|         132|          17|           2|       37.0| 1.75|    0.5|       0.0|         0.0|                  0.3|       39.55|                 0.0|       1.25|\n",
      "|       1| 2022-06-01 00:23:58|  2022-06-01 00:33:43|            0.0|          1.8|       1.0|                 N|         140|         163|           1|        9.0|  3.0|    0.5|      2.55|         0.0|                  0.3|       15.35|                 2.5|        0.0|\n",
      "+--------+--------------------+---------------------+---------------+-------------+----------+------------------+------------+------------+------------+-----------+-----+-------+----------+------------+---------------------+------------+--------------------+-----------+\n",
      "only showing top 5 rows\n",
      "\n"
     ]
    }
   ],
   "source": [
    "df = spark.read.format(\"jdbc\").options(\n",
    "                url=postgres_url,\n",
    "                driver=\"org.postgresql.Driver\",\n",
    "                dbtable='ny_taxi',\n",
    "                user='root',\n",
    "                password='root'\n",
    "                ).load()\n",
    "df.show(5)"
   ]
  },
  {
   "cell_type": "code",
   "execution_count": 7,
   "metadata": {},
   "outputs": [
    {
     "name": "stdout",
     "output_type": "stream",
     "text": [
      "root\n",
      " |-- VendorID: long (nullable = true)\n",
      " |-- tpep_pickup_datetime: timestamp (nullable = true)\n",
      " |-- tpep_dropoff_datetime: timestamp (nullable = true)\n",
      " |-- passenger_count: double (nullable = true)\n",
      " |-- trip_distance: double (nullable = true)\n",
      " |-- RatecodeID: double (nullable = true)\n",
      " |-- store_and_fwd_flag: string (nullable = true)\n",
      " |-- PULocationID: long (nullable = true)\n",
      " |-- DOLocationID: long (nullable = true)\n",
      " |-- payment_type: long (nullable = true)\n",
      " |-- fare_amount: double (nullable = true)\n",
      " |-- extra: double (nullable = true)\n",
      " |-- mta_tax: double (nullable = true)\n",
      " |-- tip_amount: double (nullable = true)\n",
      " |-- tolls_amount: double (nullable = true)\n",
      " |-- improvement_surcharge: double (nullable = true)\n",
      " |-- total_amount: double (nullable = true)\n",
      " |-- congestion_surcharge: double (nullable = true)\n",
      " |-- airport_fee: double (nullable = true)\n",
      "\n"
     ]
    }
   ],
   "source": [
    "df.printSchema()"
   ]
  },
  {
   "cell_type": "markdown",
   "metadata": {},
   "source": [
    "## Data Cleaning And Validation"
   ]
  },
  {
   "cell_type": "code",
   "execution_count": 8,
   "metadata": {},
   "outputs": [
    {
     "name": "stdout",
     "output_type": "stream",
     "text": [
      "+--------+--------------------+---------------------+---------------+-------------+----------+------------------+------------+------------+------------+-----------+-----+-------+----------+------------+---------------------+------------+--------------------+-----------+\n",
      "|VendorID|tpep_pickup_datetime|tpep_dropoff_datetime|passenger_count|trip_distance|RatecodeID|store_and_fwd_flag|PULocationID|DOLocationID|payment_type|fare_amount|extra|mta_tax|tip_amount|tolls_amount|improvement_surcharge|total_amount|congestion_surcharge|airport_fee|\n",
      "+--------+--------------------+---------------------+---------------+-------------+----------+------------------+------------+------------+------------+-----------+-----+-------+----------+------------+---------------------+------------+--------------------+-----------+\n",
      "|       0|                   0|                    0|         132448|            0|    132448|            132448|           0|           0|           0|          0|    0|      0|         0|           0|                    0|           0|              132448|     132448|\n",
      "+--------+--------------------+---------------------+---------------+-------------+----------+------------------+------------+------------+------------+-----------+-----+-------+----------+------------+---------------------+------------+--------------------+-----------+\n",
      "\n"
     ]
    }
   ],
   "source": [
    "df.select([count(when(col(c).isNull(), c)).alias(c) for c in df.columns]).show()"
   ]
  },
  {
   "cell_type": "markdown",
   "metadata": {},
   "source": [
    "#### Feature Creation"
   ]
  },
  {
   "cell_type": "code",
   "execution_count": 9,
   "metadata": {},
   "outputs": [],
   "source": [
    "df = df.withColumn('pickup_day_shift', round(hour(df.tpep_pickup_datetime)/5,0))"
   ]
  },
  {
   "cell_type": "code",
   "execution_count": 10,
   "metadata": {},
   "outputs": [],
   "source": [
    "df = df.withColumn('trip_duration', (col(\"tpep_dropoff_datetime\").cast(\"long\") - col('tpep_pickup_datetime').cast(\"long\"))/3600)"
   ]
  },
  {
   "cell_type": "code",
   "execution_count": 11,
   "metadata": {},
   "outputs": [],
   "source": [
    "df = df.withColumn('pickup_hour', hour(col('tpep_pickup_datetime')))\n",
    "df = df.withColumn('pickup_day', dayofmonth(col('tpep_pickup_datetime')))"
   ]
  },
  {
   "cell_type": "code",
   "execution_count": 12,
   "metadata": {},
   "outputs": [
    {
     "data": {
      "text/html": [
       "<div>\n",
       "<style scoped>\n",
       "    .dataframe tbody tr th:only-of-type {\n",
       "        vertical-align: middle;\n",
       "    }\n",
       "\n",
       "    .dataframe tbody tr th {\n",
       "        vertical-align: top;\n",
       "    }\n",
       "\n",
       "    .dataframe thead th {\n",
       "        text-align: right;\n",
       "    }\n",
       "</style>\n",
       "<table border=\"1\" class=\"dataframe\">\n",
       "  <thead>\n",
       "    <tr style=\"text-align: right;\">\n",
       "      <th></th>\n",
       "      <th>summary</th>\n",
       "      <th>VendorID</th>\n",
       "      <th>passenger_count</th>\n",
       "      <th>trip_distance</th>\n",
       "      <th>RatecodeID</th>\n",
       "      <th>store_and_fwd_flag</th>\n",
       "      <th>PULocationID</th>\n",
       "      <th>DOLocationID</th>\n",
       "      <th>payment_type</th>\n",
       "      <th>fare_amount</th>\n",
       "      <th>...</th>\n",
       "      <th>tip_amount</th>\n",
       "      <th>tolls_amount</th>\n",
       "      <th>improvement_surcharge</th>\n",
       "      <th>total_amount</th>\n",
       "      <th>congestion_surcharge</th>\n",
       "      <th>airport_fee</th>\n",
       "      <th>pickup_day_shift</th>\n",
       "      <th>trip_duration</th>\n",
       "      <th>pickup_hour</th>\n",
       "      <th>pickup_day</th>\n",
       "    </tr>\n",
       "  </thead>\n",
       "  <tbody>\n",
       "    <tr>\n",
       "      <th>0</th>\n",
       "      <td>count</td>\n",
       "      <td>3558124</td>\n",
       "      <td>3425676</td>\n",
       "      <td>3558124</td>\n",
       "      <td>3425676</td>\n",
       "      <td>3425676</td>\n",
       "      <td>3558124</td>\n",
       "      <td>3558124</td>\n",
       "      <td>3558124</td>\n",
       "      <td>3558124</td>\n",
       "      <td>...</td>\n",
       "      <td>3558124</td>\n",
       "      <td>3558124</td>\n",
       "      <td>3558124</td>\n",
       "      <td>3558124</td>\n",
       "      <td>3425676</td>\n",
       "      <td>3425676</td>\n",
       "      <td>3558124</td>\n",
       "      <td>3558124</td>\n",
       "      <td>3558124</td>\n",
       "      <td>3558124</td>\n",
       "    </tr>\n",
       "    <tr>\n",
       "      <th>1</th>\n",
       "      <td>mean</td>\n",
       "      <td>1.7142162555324099</td>\n",
       "      <td>1.3990418241538312</td>\n",
       "      <td>5.968216000903217</td>\n",
       "      <td>1.4181633055782275</td>\n",
       "      <td>None</td>\n",
       "      <td>164.60850830381403</td>\n",
       "      <td>162.41222846646153</td>\n",
       "      <td>1.1818587547820143</td>\n",
       "      <td>15.249263010518249</td>\n",
       "      <td>...</td>\n",
       "      <td>2.7958426406719723</td>\n",
       "      <td>0.562215619806497</td>\n",
       "      <td>0.2960561239765024</td>\n",
       "      <td>22.118415234565592</td>\n",
       "      <td>2.2823746320434273</td>\n",
       "      <td>0.09573365957551153</td>\n",
       "      <td>2.8289208020855936</td>\n",
       "      <td>7.021806643751993</td>\n",
       "      <td>14.169015750996873</td>\n",
       "      <td>15.277089837228832</td>\n",
       "    </tr>\n",
       "    <tr>\n",
       "      <th>2</th>\n",
       "      <td>stddev</td>\n",
       "      <td>0.48770389291395744</td>\n",
       "      <td>0.960712571772369</td>\n",
       "      <td>594.1291221670459</td>\n",
       "      <td>5.702573931569726</td>\n",
       "      <td>None</td>\n",
       "      <td>65.54112126953186</td>\n",
       "      <td>70.16921804762987</td>\n",
       "      <td>0.5104356496092229</td>\n",
       "      <td>212.1835543481579</td>\n",
       "      <td>...</td>\n",
       "      <td>3.581684820270223</td>\n",
       "      <td>2.121172505401807</td>\n",
       "      <td>0.04810925269323129</td>\n",
       "      <td>212.46228920765853</td>\n",
       "      <td>0.7490436767387179</td>\n",
       "      <td>0.3357336222458381</td>\n",
       "      <td>1.212871821309035</td>\n",
       "      <td>1075.2233002350804</td>\n",
       "      <td>5.8271500657514075</td>\n",
       "      <td>8.614052677355653</td>\n",
       "    </tr>\n",
       "    <tr>\n",
       "      <th>3</th>\n",
       "      <td>min</td>\n",
       "      <td>1</td>\n",
       "      <td>0.0</td>\n",
       "      <td>0.0</td>\n",
       "      <td>1.0</td>\n",
       "      <td>N</td>\n",
       "      <td>1</td>\n",
       "      <td>1</td>\n",
       "      <td>0</td>\n",
       "      <td>-907.0</td>\n",
       "      <td>...</td>\n",
       "      <td>-80.08</td>\n",
       "      <td>-63.2</td>\n",
       "      <td>-0.3</td>\n",
       "      <td>-911.55</td>\n",
       "      <td>-2.5</td>\n",
       "      <td>-1.25</td>\n",
       "      <td>0.0</td>\n",
       "      <td>-11.306666666666667</td>\n",
       "      <td>0</td>\n",
       "      <td>1</td>\n",
       "    </tr>\n",
       "    <tr>\n",
       "      <th>4</th>\n",
       "      <td>max</td>\n",
       "      <td>6</td>\n",
       "      <td>9.0</td>\n",
       "      <td>307007.11</td>\n",
       "      <td>99.0</td>\n",
       "      <td>Y</td>\n",
       "      <td>265</td>\n",
       "      <td>265</td>\n",
       "      <td>4</td>\n",
       "      <td>395844.94</td>\n",
       "      <td>...</td>\n",
       "      <td>1400.16</td>\n",
       "      <td>800.09</td>\n",
       "      <td>0.3</td>\n",
       "      <td>395848.24</td>\n",
       "      <td>2.75</td>\n",
       "      <td>1.25</td>\n",
       "      <td>5.0</td>\n",
       "      <td>172034.25305555554</td>\n",
       "      <td>23</td>\n",
       "      <td>31</td>\n",
       "    </tr>\n",
       "  </tbody>\n",
       "</table>\n",
       "<p>5 rows × 22 columns</p>\n",
       "</div>"
      ],
      "text/plain": [
       "  summary             VendorID     passenger_count      trip_distance  \\\n",
       "0   count              3558124             3425676            3558124   \n",
       "1    mean   1.7142162555324099  1.3990418241538312  5.968216000903217   \n",
       "2  stddev  0.48770389291395744   0.960712571772369  594.1291221670459   \n",
       "3     min                    1                 0.0                0.0   \n",
       "4     max                    6                 9.0          307007.11   \n",
       "\n",
       "           RatecodeID store_and_fwd_flag        PULocationID  \\\n",
       "0             3425676            3425676             3558124   \n",
       "1  1.4181633055782275               None  164.60850830381403   \n",
       "2   5.702573931569726               None   65.54112126953186   \n",
       "3                 1.0                  N                   1   \n",
       "4                99.0                  Y                 265   \n",
       "\n",
       "         DOLocationID        payment_type         fare_amount  ...  \\\n",
       "0             3558124             3558124             3558124  ...   \n",
       "1  162.41222846646153  1.1818587547820143  15.249263010518249  ...   \n",
       "2   70.16921804762987  0.5104356496092229   212.1835543481579  ...   \n",
       "3                   1                   0              -907.0  ...   \n",
       "4                 265                   4           395844.94  ...   \n",
       "\n",
       "           tip_amount       tolls_amount improvement_surcharge  \\\n",
       "0             3558124            3558124               3558124   \n",
       "1  2.7958426406719723  0.562215619806497    0.2960561239765024   \n",
       "2   3.581684820270223  2.121172505401807   0.04810925269323129   \n",
       "3              -80.08              -63.2                  -0.3   \n",
       "4             1400.16             800.09                   0.3   \n",
       "\n",
       "         total_amount congestion_surcharge          airport_fee  \\\n",
       "0             3558124              3425676              3425676   \n",
       "1  22.118415234565592   2.2823746320434273  0.09573365957551153   \n",
       "2  212.46228920765853   0.7490436767387179   0.3357336222458381   \n",
       "3             -911.55                 -2.5                -1.25   \n",
       "4           395848.24                 2.75                 1.25   \n",
       "\n",
       "     pickup_day_shift        trip_duration         pickup_hour  \\\n",
       "0             3558124              3558124             3558124   \n",
       "1  2.8289208020855936    7.021806643751993  14.169015750996873   \n",
       "2   1.212871821309035   1075.2233002350804  5.8271500657514075   \n",
       "3                 0.0  -11.306666666666667                   0   \n",
       "4                 5.0   172034.25305555554                  23   \n",
       "\n",
       "           pickup_day  \n",
       "0             3558124  \n",
       "1  15.277089837228832  \n",
       "2   8.614052677355653  \n",
       "3                   1  \n",
       "4                  31  \n",
       "\n",
       "[5 rows x 22 columns]"
      ]
     },
     "execution_count": 12,
     "metadata": {},
     "output_type": "execute_result"
    }
   ],
   "source": [
    "df.describe().toPandas()"
   ]
  },
  {
   "cell_type": "code",
   "execution_count": 13,
   "metadata": {},
   "outputs": [
    {
     "data": {
      "text/plain": [
       "[0.3877777777777778]"
      ]
     },
     "execution_count": 13,
     "metadata": {},
     "output_type": "execute_result"
    }
   ],
   "source": [
    "df.approxQuantile(\"trip_duration\", [0.8],0.05)"
   ]
  },
  {
   "cell_type": "markdown",
   "metadata": {},
   "source": [
    "#### Drop Non Numeric columns"
   ]
  },
  {
   "cell_type": "code",
   "execution_count": 14,
   "metadata": {},
   "outputs": [],
   "source": [
    "df = df.drop(*('tpep_pickup_datetime','tpep_dropoff_datetime','store_and_fwd_flag'))"
   ]
  },
  {
   "cell_type": "markdown",
   "metadata": {},
   "source": [
    "#### Filtering All Negative Values"
   ]
  },
  {
   "cell_type": "code",
   "execution_count": 15,
   "metadata": {},
   "outputs": [
    {
     "data": {
      "text/html": [
       "<div>\n",
       "<style scoped>\n",
       "    .dataframe tbody tr th:only-of-type {\n",
       "        vertical-align: middle;\n",
       "    }\n",
       "\n",
       "    .dataframe tbody tr th {\n",
       "        vertical-align: top;\n",
       "    }\n",
       "\n",
       "    .dataframe thead th {\n",
       "        text-align: right;\n",
       "    }\n",
       "</style>\n",
       "<table border=\"1\" class=\"dataframe\">\n",
       "  <thead>\n",
       "    <tr style=\"text-align: right;\">\n",
       "      <th></th>\n",
       "      <th>summary</th>\n",
       "      <th>VendorID</th>\n",
       "      <th>passenger_count</th>\n",
       "      <th>trip_distance</th>\n",
       "      <th>RatecodeID</th>\n",
       "      <th>PULocationID</th>\n",
       "      <th>DOLocationID</th>\n",
       "      <th>payment_type</th>\n",
       "      <th>fare_amount</th>\n",
       "      <th>extra</th>\n",
       "      <th>...</th>\n",
       "      <th>tip_amount</th>\n",
       "      <th>tolls_amount</th>\n",
       "      <th>improvement_surcharge</th>\n",
       "      <th>total_amount</th>\n",
       "      <th>congestion_surcharge</th>\n",
       "      <th>airport_fee</th>\n",
       "      <th>pickup_day_shift</th>\n",
       "      <th>trip_duration</th>\n",
       "      <th>pickup_hour</th>\n",
       "      <th>pickup_day</th>\n",
       "    </tr>\n",
       "  </thead>\n",
       "  <tbody>\n",
       "    <tr>\n",
       "      <th>0</th>\n",
       "      <td>count</td>\n",
       "      <td>3558124</td>\n",
       "      <td>3425676</td>\n",
       "      <td>3558124</td>\n",
       "      <td>3425676</td>\n",
       "      <td>3558124</td>\n",
       "      <td>3558124</td>\n",
       "      <td>3558124</td>\n",
       "      <td>3535708</td>\n",
       "      <td>3547064</td>\n",
       "      <td>...</td>\n",
       "      <td>3557709</td>\n",
       "      <td>3557040</td>\n",
       "      <td>3535453</td>\n",
       "      <td>3535411</td>\n",
       "      <td>3408036</td>\n",
       "      <td>3423248</td>\n",
       "      <td>3558124</td>\n",
       "      <td>3556903</td>\n",
       "      <td>3558124</td>\n",
       "      <td>3558124</td>\n",
       "    </tr>\n",
       "    <tr>\n",
       "      <th>1</th>\n",
       "      <td>mean</td>\n",
       "      <td>1.7142162555324099</td>\n",
       "      <td>1.3990418241538312</td>\n",
       "      <td>5.968216000903217</td>\n",
       "      <td>1.4181633055782275</td>\n",
       "      <td>164.60850830381403</td>\n",
       "      <td>162.41222846646153</td>\n",
       "      <td>1.1818587547820143</td>\n",
       "      <td>15.437022924415027</td>\n",
       "      <td>1.0266727637279707</td>\n",
       "      <td>...</td>\n",
       "      <td>2.796418324263827</td>\n",
       "      <td>0.5647434468008284</td>\n",
       "      <td>0.29987831830003797</td>\n",
       "      <td>22.374572508833566</td>\n",
       "      <td>2.307128211086972</td>\n",
       "      <td>0.09668814529359251</td>\n",
       "      <td>2.8289208020855936</td>\n",
       "      <td>7.0242221347066325</td>\n",
       "      <td>14.169015750996873</td>\n",
       "      <td>15.277089837228832</td>\n",
       "    </tr>\n",
       "    <tr>\n",
       "      <th>2</th>\n",
       "      <td>stddev</td>\n",
       "      <td>0.48770389291395744</td>\n",
       "      <td>0.960712571772369</td>\n",
       "      <td>594.1291221670459</td>\n",
       "      <td>5.702573931569726</td>\n",
       "      <td>65.54112126953186</td>\n",
       "      <td>70.16921804762987</td>\n",
       "      <td>0.5104356496092229</td>\n",
       "      <td>212.83458086049092</td>\n",
       "      <td>1.2518560199878157</td>\n",
       "      <td>...</td>\n",
       "      <td>3.5804086537432727</td>\n",
       "      <td>2.115188681057374</td>\n",
       "      <td>0.006040672123937114</td>\n",
       "      <td>213.11168712546333</td>\n",
       "      <td>0.6670658499919979</td>\n",
       "      <td>0.3339335514012864</td>\n",
       "      <td>1.212871821309035</td>\n",
       "      <td>1075.4078257923097</td>\n",
       "      <td>5.8271500657514075</td>\n",
       "      <td>8.614052677355653</td>\n",
       "    </tr>\n",
       "    <tr>\n",
       "      <th>3</th>\n",
       "      <td>min</td>\n",
       "      <td>1</td>\n",
       "      <td>0.0</td>\n",
       "      <td>0.0</td>\n",
       "      <td>1.0</td>\n",
       "      <td>1</td>\n",
       "      <td>1</td>\n",
       "      <td>0</td>\n",
       "      <td>0.0</td>\n",
       "      <td>0.0</td>\n",
       "      <td>...</td>\n",
       "      <td>0.0</td>\n",
       "      <td>0.0</td>\n",
       "      <td>0.0</td>\n",
       "      <td>0.0</td>\n",
       "      <td>0.0</td>\n",
       "      <td>0.0</td>\n",
       "      <td>0.0</td>\n",
       "      <td>0.0</td>\n",
       "      <td>0</td>\n",
       "      <td>1</td>\n",
       "    </tr>\n",
       "    <tr>\n",
       "      <th>4</th>\n",
       "      <td>max</td>\n",
       "      <td>6</td>\n",
       "      <td>9.0</td>\n",
       "      <td>307007.11</td>\n",
       "      <td>99.0</td>\n",
       "      <td>265</td>\n",
       "      <td>265</td>\n",
       "      <td>4</td>\n",
       "      <td>395844.94</td>\n",
       "      <td>8.25</td>\n",
       "      <td>...</td>\n",
       "      <td>1400.16</td>\n",
       "      <td>800.09</td>\n",
       "      <td>0.3</td>\n",
       "      <td>395848.24</td>\n",
       "      <td>2.75</td>\n",
       "      <td>1.25</td>\n",
       "      <td>5.0</td>\n",
       "      <td>172034.25305555554</td>\n",
       "      <td>23</td>\n",
       "      <td>31</td>\n",
       "    </tr>\n",
       "  </tbody>\n",
       "</table>\n",
       "<p>5 rows × 21 columns</p>\n",
       "</div>"
      ],
      "text/plain": [
       "  summary             VendorID     passenger_count      trip_distance  \\\n",
       "0   count              3558124             3425676            3558124   \n",
       "1    mean   1.7142162555324099  1.3990418241538312  5.968216000903217   \n",
       "2  stddev  0.48770389291395744   0.960712571772369  594.1291221670459   \n",
       "3     min                    1                 0.0                0.0   \n",
       "4     max                    6                 9.0          307007.11   \n",
       "\n",
       "           RatecodeID        PULocationID        DOLocationID  \\\n",
       "0             3425676             3558124             3558124   \n",
       "1  1.4181633055782275  164.60850830381403  162.41222846646153   \n",
       "2   5.702573931569726   65.54112126953186   70.16921804762987   \n",
       "3                 1.0                   1                   1   \n",
       "4                99.0                 265                 265   \n",
       "\n",
       "         payment_type         fare_amount               extra  ...  \\\n",
       "0             3558124             3535708             3547064  ...   \n",
       "1  1.1818587547820143  15.437022924415027  1.0266727637279707  ...   \n",
       "2  0.5104356496092229  212.83458086049092  1.2518560199878157  ...   \n",
       "3                   0                 0.0                 0.0  ...   \n",
       "4                   4           395844.94                8.25  ...   \n",
       "\n",
       "           tip_amount        tolls_amount improvement_surcharge  \\\n",
       "0             3557709             3557040               3535453   \n",
       "1   2.796418324263827  0.5647434468008284   0.29987831830003797   \n",
       "2  3.5804086537432727   2.115188681057374  0.006040672123937114   \n",
       "3                 0.0                 0.0                   0.0   \n",
       "4             1400.16              800.09                   0.3   \n",
       "\n",
       "         total_amount congestion_surcharge          airport_fee  \\\n",
       "0             3535411              3408036              3423248   \n",
       "1  22.374572508833566    2.307128211086972  0.09668814529359251   \n",
       "2  213.11168712546333   0.6670658499919979   0.3339335514012864   \n",
       "3                 0.0                  0.0                  0.0   \n",
       "4           395848.24                 2.75                 1.25   \n",
       "\n",
       "     pickup_day_shift       trip_duration         pickup_hour  \\\n",
       "0             3558124             3556903             3558124   \n",
       "1  2.8289208020855936  7.0242221347066325  14.169015750996873   \n",
       "2   1.212871821309035  1075.4078257923097  5.8271500657514075   \n",
       "3                 0.0                 0.0                   0   \n",
       "4                 5.0  172034.25305555554                  23   \n",
       "\n",
       "           pickup_day  \n",
       "0             3558124  \n",
       "1  15.277089837228832  \n",
       "2   8.614052677355653  \n",
       "3                   1  \n",
       "4                  31  \n",
       "\n",
       "[5 rows x 21 columns]"
      ]
     },
     "execution_count": 15,
     "metadata": {},
     "output_type": "execute_result"
    }
   ],
   "source": [
    "df.select([(when(col(c)>=0, col(c))).alias(c) for c in df.columns]).describe().toPandas()"
   ]
  },
  {
   "cell_type": "code",
   "execution_count": 16,
   "metadata": {},
   "outputs": [
    {
     "data": {
      "text/html": [
       "<div>\n",
       "<style scoped>\n",
       "    .dataframe tbody tr th:only-of-type {\n",
       "        vertical-align: middle;\n",
       "    }\n",
       "\n",
       "    .dataframe tbody tr th {\n",
       "        vertical-align: top;\n",
       "    }\n",
       "\n",
       "    .dataframe thead th {\n",
       "        text-align: right;\n",
       "    }\n",
       "</style>\n",
       "<table border=\"1\" class=\"dataframe\">\n",
       "  <thead>\n",
       "    <tr style=\"text-align: right;\">\n",
       "      <th></th>\n",
       "      <th>summary</th>\n",
       "      <th>VendorID</th>\n",
       "      <th>passenger_count</th>\n",
       "      <th>trip_distance</th>\n",
       "      <th>RatecodeID</th>\n",
       "      <th>PULocationID</th>\n",
       "      <th>DOLocationID</th>\n",
       "      <th>payment_type</th>\n",
       "      <th>fare_amount</th>\n",
       "      <th>extra</th>\n",
       "      <th>...</th>\n",
       "      <th>tip_amount</th>\n",
       "      <th>tolls_amount</th>\n",
       "      <th>improvement_surcharge</th>\n",
       "      <th>total_amount</th>\n",
       "      <th>congestion_surcharge</th>\n",
       "      <th>airport_fee</th>\n",
       "      <th>pickup_day_shift</th>\n",
       "      <th>trip_duration</th>\n",
       "      <th>pickup_hour</th>\n",
       "      <th>pickup_day</th>\n",
       "    </tr>\n",
       "  </thead>\n",
       "  <tbody>\n",
       "    <tr>\n",
       "      <th>0</th>\n",
       "      <td>count</td>\n",
       "      <td>3402996</td>\n",
       "      <td>3402996</td>\n",
       "      <td>3402996</td>\n",
       "      <td>3402996</td>\n",
       "      <td>3402996</td>\n",
       "      <td>3402996</td>\n",
       "      <td>3402996</td>\n",
       "      <td>3402996</td>\n",
       "      <td>3402996</td>\n",
       "      <td>...</td>\n",
       "      <td>3402996</td>\n",
       "      <td>3402996</td>\n",
       "      <td>3402996</td>\n",
       "      <td>3402996</td>\n",
       "      <td>3402996</td>\n",
       "      <td>3402996</td>\n",
       "      <td>3402996</td>\n",
       "      <td>3402996</td>\n",
       "      <td>3402996</td>\n",
       "      <td>3402996</td>\n",
       "    </tr>\n",
       "    <tr>\n",
       "      <th>1</th>\n",
       "      <td>mean</td>\n",
       "      <td>1.7021098467350535</td>\n",
       "      <td>1.3995026735265044</td>\n",
       "      <td>3.638474059328231</td>\n",
       "      <td>1.419442456000536</td>\n",
       "      <td>164.69242338221966</td>\n",
       "      <td>162.74214662609066</td>\n",
       "      <td>1.2137557610999248</td>\n",
       "      <td>15.197886374245229</td>\n",
       "      <td>1.0670598643078015</td>\n",
       "      <td>...</td>\n",
       "      <td>2.7678593715652853</td>\n",
       "      <td>0.5610226958855934</td>\n",
       "      <td>0.29987869514470744</td>\n",
       "      <td>22.09809153993338</td>\n",
       "      <td>2.310544443778365</td>\n",
       "      <td>0.09726355834682145</td>\n",
       "      <td>2.834960428986693</td>\n",
       "      <td>6.8215638575850175</td>\n",
       "      <td>14.19986652937588</td>\n",
       "      <td>15.265127846168493</td>\n",
       "    </tr>\n",
       "    <tr>\n",
       "      <th>2</th>\n",
       "      <td>stddev</td>\n",
       "      <td>0.45733103034213096</td>\n",
       "      <td>0.9618302087930902</td>\n",
       "      <td>116.12002032865199</td>\n",
       "      <td>5.721189634212782</td>\n",
       "      <td>65.13671764539471</td>\n",
       "      <td>70.07469085739774</td>\n",
       "      <td>0.42737464202960523</td>\n",
       "      <td>216.9212335596505</td>\n",
       "      <td>1.260960334271295</td>\n",
       "      <td>...</td>\n",
       "      <td>3.581400112337852</td>\n",
       "      <td>2.1051586831417928</td>\n",
       "      <td>0.006031314776138279</td>\n",
       "      <td>217.1834310896354</td>\n",
       "      <td>0.6616210236680115</td>\n",
       "      <td>0.3348421734167634</td>\n",
       "      <td>1.2069815123200243</td>\n",
       "      <td>1059.1713120893264</td>\n",
       "      <td>5.797116147789476</td>\n",
       "      <td>8.61786106460677</td>\n",
       "    </tr>\n",
       "    <tr>\n",
       "      <th>3</th>\n",
       "      <td>min</td>\n",
       "      <td>1</td>\n",
       "      <td>0.0</td>\n",
       "      <td>0.0</td>\n",
       "      <td>1.0</td>\n",
       "      <td>1</td>\n",
       "      <td>1</td>\n",
       "      <td>1</td>\n",
       "      <td>0.0</td>\n",
       "      <td>0.0</td>\n",
       "      <td>...</td>\n",
       "      <td>0.0</td>\n",
       "      <td>0.0</td>\n",
       "      <td>0.0</td>\n",
       "      <td>0.0</td>\n",
       "      <td>0.0</td>\n",
       "      <td>0.0</td>\n",
       "      <td>0.0</td>\n",
       "      <td>0.0</td>\n",
       "      <td>0</td>\n",
       "      <td>1</td>\n",
       "    </tr>\n",
       "    <tr>\n",
       "      <th>4</th>\n",
       "      <td>max</td>\n",
       "      <td>2</td>\n",
       "      <td>9.0</td>\n",
       "      <td>184340.8</td>\n",
       "      <td>99.0</td>\n",
       "      <td>265</td>\n",
       "      <td>265</td>\n",
       "      <td>4</td>\n",
       "      <td>395844.94</td>\n",
       "      <td>8.25</td>\n",
       "      <td>...</td>\n",
       "      <td>1400.16</td>\n",
       "      <td>800.09</td>\n",
       "      <td>0.3</td>\n",
       "      <td>395848.24</td>\n",
       "      <td>2.75</td>\n",
       "      <td>1.25</td>\n",
       "      <td>5.0</td>\n",
       "      <td>172034.25305555554</td>\n",
       "      <td>23</td>\n",
       "      <td>31</td>\n",
       "    </tr>\n",
       "  </tbody>\n",
       "</table>\n",
       "<p>5 rows × 21 columns</p>\n",
       "</div>"
      ],
      "text/plain": [
       "  summary             VendorID     passenger_count       trip_distance  \\\n",
       "0   count              3402996             3402996             3402996   \n",
       "1    mean   1.7021098467350535  1.3995026735265044   3.638474059328231   \n",
       "2  stddev  0.45733103034213096  0.9618302087930902  116.12002032865199   \n",
       "3     min                    1                 0.0                 0.0   \n",
       "4     max                    2                 9.0            184340.8   \n",
       "\n",
       "          RatecodeID        PULocationID        DOLocationID  \\\n",
       "0            3402996             3402996             3402996   \n",
       "1  1.419442456000536  164.69242338221966  162.74214662609066   \n",
       "2  5.721189634212782   65.13671764539471   70.07469085739774   \n",
       "3                1.0                   1                   1   \n",
       "4               99.0                 265                 265   \n",
       "\n",
       "          payment_type         fare_amount               extra  ...  \\\n",
       "0              3402996             3402996             3402996  ...   \n",
       "1   1.2137557610999248  15.197886374245229  1.0670598643078015  ...   \n",
       "2  0.42737464202960523   216.9212335596505   1.260960334271295  ...   \n",
       "3                    1                 0.0                 0.0  ...   \n",
       "4                    4           395844.94                8.25  ...   \n",
       "\n",
       "           tip_amount        tolls_amount improvement_surcharge  \\\n",
       "0             3402996             3402996               3402996   \n",
       "1  2.7678593715652853  0.5610226958855934   0.29987869514470744   \n",
       "2   3.581400112337852  2.1051586831417928  0.006031314776138279   \n",
       "3                 0.0                 0.0                   0.0   \n",
       "4             1400.16              800.09                   0.3   \n",
       "\n",
       "        total_amount congestion_surcharge          airport_fee  \\\n",
       "0            3402996              3402996              3402996   \n",
       "1  22.09809153993338    2.310544443778365  0.09726355834682145   \n",
       "2  217.1834310896354   0.6616210236680115   0.3348421734167634   \n",
       "3                0.0                  0.0                  0.0   \n",
       "4          395848.24                 2.75                 1.25   \n",
       "\n",
       "     pickup_day_shift       trip_duration        pickup_hour  \\\n",
       "0             3402996             3402996            3402996   \n",
       "1   2.834960428986693  6.8215638575850175  14.19986652937588   \n",
       "2  1.2069815123200243  1059.1713120893264  5.797116147789476   \n",
       "3                 0.0                 0.0                  0   \n",
       "4                 5.0  172034.25305555554                 23   \n",
       "\n",
       "           pickup_day  \n",
       "0             3402996  \n",
       "1  15.265127846168493  \n",
       "2    8.61786106460677  \n",
       "3                   1  \n",
       "4                  31  \n",
       "\n",
       "[5 rows x 21 columns]"
      ]
     },
     "execution_count": 16,
     "metadata": {},
     "output_type": "execute_result"
    }
   ],
   "source": [
    "df.select([(when(col(c)>=0, col(c))).otherwise(None).alias(c) for c in df.columns]).dropna().describe().toPandas()"
   ]
  },
  {
   "cell_type": "code",
   "execution_count": 17,
   "metadata": {},
   "outputs": [],
   "source": [
    "df = df.select([(when(col(c)>=0, col(c))).otherwise(None).alias(c) for c in df.columns]).dropna()"
   ]
  },
  {
   "cell_type": "markdown",
   "metadata": {},
   "source": [
    "##### Filtering Outliers and Bad Data with Quantiles"
   ]
  },
  {
   "cell_type": "code",
   "execution_count": 18,
   "metadata": {},
   "outputs": [],
   "source": [
    "#feature_quantiles = dict([(c,df.approxQuantile(c, [0.9],0.05)) for c in df.columns])"
   ]
  },
  {
   "cell_type": "code",
   "execution_count": 19,
   "metadata": {},
   "outputs": [],
   "source": [
    "feature_quantiles = {'VendorID': [2.0],\n",
    " 'passenger_count': [3.0],\n",
    " 'trip_distance': [8.09],\n",
    " 'RatecodeID': [1.0],\n",
    " 'PULocationID': [239.0],\n",
    " 'DOLocationID': [239.0],\n",
    " 'payment_type': [2.0],\n",
    " 'fare_amount': [37.5],\n",
    " 'extra': [3.0],\n",
    " 'mta_tax': [0.5],\n",
    " 'tip_amount': [6.2],\n",
    " 'tolls_amount': [6.55],\n",
    " 'improvement_surcharge': [0.3],\n",
    " 'total_amount': [40.56],\n",
    " 'congestion_surcharge': [2.5],\n",
    " 'airport_fee': [1.25],\n",
    " 'pickup_day_shift': [4.0],\n",
    " 'trip_duration': [0.5477777777777778],\n",
    " 'pickup_hour': [21.0],\n",
    " 'pickup_day': [29.0]}"
   ]
  },
  {
   "cell_type": "code",
   "execution_count": 20,
   "metadata": {},
   "outputs": [
    {
     "data": {
      "text/html": [
       "<div>\n",
       "<style scoped>\n",
       "    .dataframe tbody tr th:only-of-type {\n",
       "        vertical-align: middle;\n",
       "    }\n",
       "\n",
       "    .dataframe tbody tr th {\n",
       "        vertical-align: top;\n",
       "    }\n",
       "\n",
       "    .dataframe thead th {\n",
       "        text-align: right;\n",
       "    }\n",
       "</style>\n",
       "<table border=\"1\" class=\"dataframe\">\n",
       "  <thead>\n",
       "    <tr style=\"text-align: right;\">\n",
       "      <th></th>\n",
       "      <th>summary</th>\n",
       "      <th>VendorID</th>\n",
       "      <th>passenger_count</th>\n",
       "      <th>trip_distance</th>\n",
       "      <th>RatecodeID</th>\n",
       "      <th>PULocationID</th>\n",
       "      <th>DOLocationID</th>\n",
       "      <th>payment_type</th>\n",
       "      <th>fare_amount</th>\n",
       "      <th>extra</th>\n",
       "      <th>...</th>\n",
       "      <th>tip_amount</th>\n",
       "      <th>tolls_amount</th>\n",
       "      <th>improvement_surcharge</th>\n",
       "      <th>total_amount</th>\n",
       "      <th>congestion_surcharge</th>\n",
       "      <th>airport_fee</th>\n",
       "      <th>pickup_day_shift</th>\n",
       "      <th>trip_duration</th>\n",
       "      <th>pickup_hour</th>\n",
       "      <th>pickup_day</th>\n",
       "    </tr>\n",
       "  </thead>\n",
       "  <tbody>\n",
       "    <tr>\n",
       "      <th>0</th>\n",
       "      <td>count</td>\n",
       "      <td>1855609</td>\n",
       "      <td>1855609</td>\n",
       "      <td>1855609</td>\n",
       "      <td>1855609</td>\n",
       "      <td>1855609</td>\n",
       "      <td>1855609</td>\n",
       "      <td>1855609</td>\n",
       "      <td>1855609</td>\n",
       "      <td>1855609</td>\n",
       "      <td>...</td>\n",
       "      <td>1855609</td>\n",
       "      <td>1855609</td>\n",
       "      <td>1855609</td>\n",
       "      <td>1855609</td>\n",
       "      <td>1855609</td>\n",
       "      <td>1855609</td>\n",
       "      <td>1855609</td>\n",
       "      <td>1855609</td>\n",
       "      <td>1855609</td>\n",
       "      <td>1855609</td>\n",
       "    </tr>\n",
       "    <tr>\n",
       "      <th>1</th>\n",
       "      <td>mean</td>\n",
       "      <td>1.7396202540513654</td>\n",
       "      <td>1.215039914119839</td>\n",
       "      <td>1.9813562824926156</td>\n",
       "      <td>1.0</td>\n",
       "      <td>159.30137599030832</td>\n",
       "      <td>156.90815090894688</td>\n",
       "      <td>1.2143129290707255</td>\n",
       "      <td>10.097904898068219</td>\n",
       "      <td>0.9006732183342511</td>\n",
       "      <td>...</td>\n",
       "      <td>1.9691928418103122</td>\n",
       "      <td>0.022779103787490585</td>\n",
       "      <td>0.29994826495810933</td>\n",
       "      <td>15.58373613213189</td>\n",
       "      <td>2.3953793606303915</td>\n",
       "      <td>0.014139562806604193</td>\n",
       "      <td>2.6382233541656674</td>\n",
       "      <td>0.20236860932328685</td>\n",
       "      <td>13.191789326307427</td>\n",
       "      <td>14.779966038103932</td>\n",
       "    </tr>\n",
       "    <tr>\n",
       "      <th>2</th>\n",
       "      <td>stddev</td>\n",
       "      <td>0.43884192784212644</td>\n",
       "      <td>0.5381312154058201</td>\n",
       "      <td>1.3832570107558455</td>\n",
       "      <td>0.0</td>\n",
       "      <td>62.93481937910458</td>\n",
       "      <td>65.33477324215734</td>\n",
       "      <td>0.41034496249686914</td>\n",
       "      <td>4.590257663892595</td>\n",
       "      <td>1.0608261203411542</td>\n",
       "      <td>...</td>\n",
       "      <td>1.459534790659587</td>\n",
       "      <td>0.38378275078053875</td>\n",
       "      <td>0.003939269336383237</td>\n",
       "      <td>5.456998344258471</td>\n",
       "      <td>0.5006058881947676</td>\n",
       "      <td>0.13219128446700545</td>\n",
       "      <td>1.1345832637890245</td>\n",
       "      <td>0.11130904724463664</td>\n",
       "      <td>5.431940142331128</td>\n",
       "      <td>8.349464206498286</td>\n",
       "    </tr>\n",
       "    <tr>\n",
       "      <th>3</th>\n",
       "      <td>min</td>\n",
       "      <td>1</td>\n",
       "      <td>0.0</td>\n",
       "      <td>0.0</td>\n",
       "      <td>1.0</td>\n",
       "      <td>1</td>\n",
       "      <td>1</td>\n",
       "      <td>1</td>\n",
       "      <td>0.0</td>\n",
       "      <td>0.0</td>\n",
       "      <td>...</td>\n",
       "      <td>0.0</td>\n",
       "      <td>0.0</td>\n",
       "      <td>0.0</td>\n",
       "      <td>0.0</td>\n",
       "      <td>0.0</td>\n",
       "      <td>0.0</td>\n",
       "      <td>0.0</td>\n",
       "      <td>0.0</td>\n",
       "      <td>0</td>\n",
       "      <td>1</td>\n",
       "    </tr>\n",
       "    <tr>\n",
       "      <th>4</th>\n",
       "      <td>max</td>\n",
       "      <td>2</td>\n",
       "      <td>3.0</td>\n",
       "      <td>8.09</td>\n",
       "      <td>1.0</td>\n",
       "      <td>239</td>\n",
       "      <td>239</td>\n",
       "      <td>2</td>\n",
       "      <td>37.2</td>\n",
       "      <td>3.0</td>\n",
       "      <td>...</td>\n",
       "      <td>6.2</td>\n",
       "      <td>6.55</td>\n",
       "      <td>0.3</td>\n",
       "      <td>40.55</td>\n",
       "      <td>2.5</td>\n",
       "      <td>1.25</td>\n",
       "      <td>4.0</td>\n",
       "      <td>0.5477777777777778</td>\n",
       "      <td>21</td>\n",
       "      <td>29</td>\n",
       "    </tr>\n",
       "  </tbody>\n",
       "</table>\n",
       "<p>5 rows × 21 columns</p>\n",
       "</div>"
      ],
      "text/plain": [
       "  summary             VendorID     passenger_count       trip_distance  \\\n",
       "0   count              1855609             1855609             1855609   \n",
       "1    mean   1.7396202540513654   1.215039914119839  1.9813562824926156   \n",
       "2  stddev  0.43884192784212644  0.5381312154058201  1.3832570107558455   \n",
       "3     min                    1                 0.0                 0.0   \n",
       "4     max                    2                 3.0                8.09   \n",
       "\n",
       "  RatecodeID        PULocationID        DOLocationID         payment_type  \\\n",
       "0    1855609             1855609             1855609              1855609   \n",
       "1        1.0  159.30137599030832  156.90815090894688   1.2143129290707255   \n",
       "2        0.0   62.93481937910458   65.33477324215734  0.41034496249686914   \n",
       "3        1.0                   1                   1                    1   \n",
       "4        1.0                 239                 239                    2   \n",
       "\n",
       "          fare_amount               extra  ...          tip_amount  \\\n",
       "0             1855609             1855609  ...             1855609   \n",
       "1  10.097904898068219  0.9006732183342511  ...  1.9691928418103122   \n",
       "2   4.590257663892595  1.0608261203411542  ...   1.459534790659587   \n",
       "3                 0.0                 0.0  ...                 0.0   \n",
       "4                37.2                 3.0  ...                 6.2   \n",
       "\n",
       "           tolls_amount improvement_surcharge       total_amount  \\\n",
       "0               1855609               1855609            1855609   \n",
       "1  0.022779103787490585   0.29994826495810933  15.58373613213189   \n",
       "2   0.38378275078053875  0.003939269336383237  5.456998344258471   \n",
       "3                   0.0                   0.0                0.0   \n",
       "4                  6.55                   0.3              40.55   \n",
       "\n",
       "  congestion_surcharge           airport_fee    pickup_day_shift  \\\n",
       "0              1855609               1855609             1855609   \n",
       "1   2.3953793606303915  0.014139562806604193  2.6382233541656674   \n",
       "2   0.5006058881947676   0.13219128446700545  1.1345832637890245   \n",
       "3                  0.0                   0.0                 0.0   \n",
       "4                  2.5                  1.25                 4.0   \n",
       "\n",
       "         trip_duration         pickup_hour          pickup_day  \n",
       "0              1855609             1855609             1855609  \n",
       "1  0.20236860932328685  13.191789326307427  14.779966038103932  \n",
       "2  0.11130904724463664   5.431940142331128   8.349464206498286  \n",
       "3                  0.0                   0                   1  \n",
       "4   0.5477777777777778                  21                  29  \n",
       "\n",
       "[5 rows x 21 columns]"
      ]
     },
     "execution_count": 20,
     "metadata": {},
     "output_type": "execute_result"
    }
   ],
   "source": [
    "df.select([when(col(c)<=feature_quantiles[c][0],col(c)).otherwise(None).alias(c) for c in df.columns]).dropna().describe().toPandas()"
   ]
  },
  {
   "cell_type": "code",
   "execution_count": 21,
   "metadata": {},
   "outputs": [],
   "source": [
    "df = df.select([when(col(c)<=feature_quantiles[c][0],col(c)).otherwise(None).alias(c) for c in df.columns if c not in ['trip_itinerary','tpep_pickup_datetime','tpep_dropoff_datetime','store_and_fwd_flag']]).dropna()"
   ]
  },
  {
   "cell_type": "markdown",
   "metadata": {},
   "source": [
    "#### Creating time related features"
   ]
  },
  {
   "cell_type": "code",
   "execution_count": 22,
   "metadata": {},
   "outputs": [],
   "source": [
    "df = df.withColumn('trip_itinerary', concat(col('PULocationID').cast(\"string\"),lit(\"_\"),col('DOLocationID').cast(\"string\")))"
   ]
  },
  {
   "cell_type": "code",
   "execution_count": 23,
   "metadata": {},
   "outputs": [
    {
     "name": "stdout",
     "output_type": "stream",
     "text": [
      "+--------------+-------------------+\n",
      "|trip_itinerary| avg(trip_duration)|\n",
      "+--------------+-------------------+\n",
      "|       230_143|0.17354166666666673|\n",
      "|        48_148|  0.393946644664466|\n",
      "|       100_225| 0.4435317460317461|\n",
      "|         100_4| 0.2975114155251141|\n",
      "|       140_161|0.24066343669250628|\n",
      "|       140_142|0.24977813723140782|\n",
      "|       186_114|0.22385935075784688|\n",
      "|        125_13|0.15776234567901232|\n",
      "|       236_125| 0.4441798941798943|\n",
      "|        141_87|0.31617614638447983|\n",
      "|       125_230| 0.3204503105590062|\n",
      "|        209_65| 0.1675992063492064|\n",
      "|         68_41|0.37737103174603176|\n",
      "|        137_82|0.37777777777777777|\n",
      "|        88_162| 0.3005081300813006|\n",
      "|       142_146|0.31092592592592594|\n",
      "|        148_61|0.34471870604781985|\n",
      "|         48_82| 0.4439409722222222|\n",
      "|        88_236| 0.3850405092592593|\n",
      "|        142_66|0.47291666666666665|\n",
      "+--------------+-------------------+\n",
      "only showing top 20 rows\n",
      "\n"
     ]
    }
   ],
   "source": [
    "df_mean = df.groupBy('trip_itinerary').mean('trip_duration')\n",
    "df_mean.show()"
   ]
  },
  {
   "cell_type": "code",
   "execution_count": 24,
   "metadata": {},
   "outputs": [],
   "source": [
    "df  = df.join(df_mean,on='trip_itinerary',how='left')"
   ]
  },
  {
   "cell_type": "markdown",
   "metadata": {},
   "source": [
    "## Data Analisys"
   ]
  },
  {
   "cell_type": "markdown",
   "metadata": {},
   "source": [
    "#### Measure Price Correlation with features "
   ]
  },
  {
   "cell_type": "code",
   "execution_count": 25,
   "metadata": {},
   "outputs": [],
   "source": [
    "from pyspark.ml.feature import VectorAssembler\n",
    "from pyspark.ml.stat import Correlation\n",
    "import matplotlib.pyplot as plt\n",
    "import seaborn as sns"
   ]
  },
  {
   "cell_type": "code",
   "execution_count": 26,
   "metadata": {},
   "outputs": [],
   "source": [
    "def plot_corr_matrix(df):\n",
    "    vector_col = \"corr_features\"\n",
    "    assembler = VectorAssembler(inputCols=df.columns, \n",
    "                                outputCol=vector_col)\n",
    "    df_vector = assembler.transform(df).select(vector_col)\n",
    "    matrix = Correlation.corr(df_vector, vector_col)\n",
    "    matrix = Correlation.corr(df_vector, vector_col).collect()[0][0]\n",
    "    corrmatrix = matrix.toArray().tolist()\n",
    "    fig=plt.figure(figsize=(10, 10))\n",
    "    ax=fig.add_subplot(111)\n",
    "    ax.set_title(\"Correlation Matrix for Specified Attributes\")\n",
    "    sns.heatmap(pd.DataFrame(data=corrmatrix,columns=df.columns),xticklabels=df.columns,yticklabels=df.columns)\n",
    "    plt.show()"
   ]
  },
  {
   "cell_type": "code",
   "execution_count": 27,
   "metadata": {},
   "outputs": [],
   "source": [
    "cols = [c for c in df.columns if c not in ['trip_itinerary','tpep_pickup_datetime','tpep_dropoff_datetime','store_and_fwd_flag']]"
   ]
  },
  {
   "cell_type": "code",
   "execution_count": 28,
   "metadata": {},
   "outputs": [],
   "source": [
    "df_corr = df.select(cols)\n",
    "#df_corr.show(3)"
   ]
  },
  {
   "cell_type": "code",
   "execution_count": 29,
   "metadata": {},
   "outputs": [],
   "source": [
    "#plot_corr_matrix(df_corr)"
   ]
  },
  {
   "cell_type": "code",
   "execution_count": 30,
   "metadata": {},
   "outputs": [
    {
     "data": {
      "application/vnd.plotly.v1+json": {
       "config": {
        "plotlyServerURL": "https://plot.ly"
       },
       "data": [
        {
         "hovertemplate": "variable=count<br>pickup_day=%{x}<br>value=%{y}<extra></extra>",
         "legendgroup": "count",
         "line": {
          "color": "#636efa",
          "dash": "solid"
         },
         "mode": "lines",
         "name": "count",
         "orientation": "v",
         "showlegend": true,
         "type": "scatter",
         "x": [
          1,
          2,
          3,
          4,
          5,
          6,
          7,
          8,
          9,
          10,
          11,
          12,
          13,
          14,
          15,
          16,
          17,
          18,
          19,
          20,
          21,
          22,
          23,
          24,
          25,
          26,
          27,
          28,
          29
         ],
         "xaxis": "x",
         "y": [
          67136,
          67430,
          64701,
          69662,
          56045,
          61579,
          70112,
          69575,
          70720,
          66028,
          67345,
          53180,
          63544,
          67115,
          69342,
          68735,
          63643,
          64894,
          54210,
          53268,
          66135,
          67036,
          68468,
          63834,
          67342,
          50311,
          57322,
          62402,
          64495
         ],
         "yaxis": "y"
        }
       ],
       "layout": {
        "legend": {
         "title": {
          "text": "variable"
         },
         "tracegroupgap": 0
        },
        "margin": {
         "t": 60
        },
        "template": {
         "data": {
          "bar": [
           {
            "error_x": {
             "color": "#2a3f5f"
            },
            "error_y": {
             "color": "#2a3f5f"
            },
            "marker": {
             "line": {
              "color": "#E5ECF6",
              "width": 0.5
             }
            },
            "type": "bar"
           }
          ],
          "barpolar": [
           {
            "marker": {
             "line": {
              "color": "#E5ECF6",
              "width": 0.5
             }
            },
            "type": "barpolar"
           }
          ],
          "carpet": [
           {
            "aaxis": {
             "endlinecolor": "#2a3f5f",
             "gridcolor": "white",
             "linecolor": "white",
             "minorgridcolor": "white",
             "startlinecolor": "#2a3f5f"
            },
            "baxis": {
             "endlinecolor": "#2a3f5f",
             "gridcolor": "white",
             "linecolor": "white",
             "minorgridcolor": "white",
             "startlinecolor": "#2a3f5f"
            },
            "type": "carpet"
           }
          ],
          "choropleth": [
           {
            "colorbar": {
             "outlinewidth": 0,
             "ticks": ""
            },
            "type": "choropleth"
           }
          ],
          "contour": [
           {
            "colorbar": {
             "outlinewidth": 0,
             "ticks": ""
            },
            "colorscale": [
             [
              0,
              "#0d0887"
             ],
             [
              0.1111111111111111,
              "#46039f"
             ],
             [
              0.2222222222222222,
              "#7201a8"
             ],
             [
              0.3333333333333333,
              "#9c179e"
             ],
             [
              0.4444444444444444,
              "#bd3786"
             ],
             [
              0.5555555555555556,
              "#d8576b"
             ],
             [
              0.6666666666666666,
              "#ed7953"
             ],
             [
              0.7777777777777778,
              "#fb9f3a"
             ],
             [
              0.8888888888888888,
              "#fdca26"
             ],
             [
              1,
              "#f0f921"
             ]
            ],
            "type": "contour"
           }
          ],
          "contourcarpet": [
           {
            "colorbar": {
             "outlinewidth": 0,
             "ticks": ""
            },
            "type": "contourcarpet"
           }
          ],
          "heatmap": [
           {
            "colorbar": {
             "outlinewidth": 0,
             "ticks": ""
            },
            "colorscale": [
             [
              0,
              "#0d0887"
             ],
             [
              0.1111111111111111,
              "#46039f"
             ],
             [
              0.2222222222222222,
              "#7201a8"
             ],
             [
              0.3333333333333333,
              "#9c179e"
             ],
             [
              0.4444444444444444,
              "#bd3786"
             ],
             [
              0.5555555555555556,
              "#d8576b"
             ],
             [
              0.6666666666666666,
              "#ed7953"
             ],
             [
              0.7777777777777778,
              "#fb9f3a"
             ],
             [
              0.8888888888888888,
              "#fdca26"
             ],
             [
              1,
              "#f0f921"
             ]
            ],
            "type": "heatmap"
           }
          ],
          "heatmapgl": [
           {
            "colorbar": {
             "outlinewidth": 0,
             "ticks": ""
            },
            "colorscale": [
             [
              0,
              "#0d0887"
             ],
             [
              0.1111111111111111,
              "#46039f"
             ],
             [
              0.2222222222222222,
              "#7201a8"
             ],
             [
              0.3333333333333333,
              "#9c179e"
             ],
             [
              0.4444444444444444,
              "#bd3786"
             ],
             [
              0.5555555555555556,
              "#d8576b"
             ],
             [
              0.6666666666666666,
              "#ed7953"
             ],
             [
              0.7777777777777778,
              "#fb9f3a"
             ],
             [
              0.8888888888888888,
              "#fdca26"
             ],
             [
              1,
              "#f0f921"
             ]
            ],
            "type": "heatmapgl"
           }
          ],
          "histogram": [
           {
            "marker": {
             "colorbar": {
              "outlinewidth": 0,
              "ticks": ""
             }
            },
            "type": "histogram"
           }
          ],
          "histogram2d": [
           {
            "colorbar": {
             "outlinewidth": 0,
             "ticks": ""
            },
            "colorscale": [
             [
              0,
              "#0d0887"
             ],
             [
              0.1111111111111111,
              "#46039f"
             ],
             [
              0.2222222222222222,
              "#7201a8"
             ],
             [
              0.3333333333333333,
              "#9c179e"
             ],
             [
              0.4444444444444444,
              "#bd3786"
             ],
             [
              0.5555555555555556,
              "#d8576b"
             ],
             [
              0.6666666666666666,
              "#ed7953"
             ],
             [
              0.7777777777777778,
              "#fb9f3a"
             ],
             [
              0.8888888888888888,
              "#fdca26"
             ],
             [
              1,
              "#f0f921"
             ]
            ],
            "type": "histogram2d"
           }
          ],
          "histogram2dcontour": [
           {
            "colorbar": {
             "outlinewidth": 0,
             "ticks": ""
            },
            "colorscale": [
             [
              0,
              "#0d0887"
             ],
             [
              0.1111111111111111,
              "#46039f"
             ],
             [
              0.2222222222222222,
              "#7201a8"
             ],
             [
              0.3333333333333333,
              "#9c179e"
             ],
             [
              0.4444444444444444,
              "#bd3786"
             ],
             [
              0.5555555555555556,
              "#d8576b"
             ],
             [
              0.6666666666666666,
              "#ed7953"
             ],
             [
              0.7777777777777778,
              "#fb9f3a"
             ],
             [
              0.8888888888888888,
              "#fdca26"
             ],
             [
              1,
              "#f0f921"
             ]
            ],
            "type": "histogram2dcontour"
           }
          ],
          "mesh3d": [
           {
            "colorbar": {
             "outlinewidth": 0,
             "ticks": ""
            },
            "type": "mesh3d"
           }
          ],
          "parcoords": [
           {
            "line": {
             "colorbar": {
              "outlinewidth": 0,
              "ticks": ""
             }
            },
            "type": "parcoords"
           }
          ],
          "pie": [
           {
            "automargin": true,
            "type": "pie"
           }
          ],
          "scatter": [
           {
            "marker": {
             "colorbar": {
              "outlinewidth": 0,
              "ticks": ""
             }
            },
            "type": "scatter"
           }
          ],
          "scatter3d": [
           {
            "line": {
             "colorbar": {
              "outlinewidth": 0,
              "ticks": ""
             }
            },
            "marker": {
             "colorbar": {
              "outlinewidth": 0,
              "ticks": ""
             }
            },
            "type": "scatter3d"
           }
          ],
          "scattercarpet": [
           {
            "marker": {
             "colorbar": {
              "outlinewidth": 0,
              "ticks": ""
             }
            },
            "type": "scattercarpet"
           }
          ],
          "scattergeo": [
           {
            "marker": {
             "colorbar": {
              "outlinewidth": 0,
              "ticks": ""
             }
            },
            "type": "scattergeo"
           }
          ],
          "scattergl": [
           {
            "marker": {
             "colorbar": {
              "outlinewidth": 0,
              "ticks": ""
             }
            },
            "type": "scattergl"
           }
          ],
          "scattermapbox": [
           {
            "marker": {
             "colorbar": {
              "outlinewidth": 0,
              "ticks": ""
             }
            },
            "type": "scattermapbox"
           }
          ],
          "scatterpolar": [
           {
            "marker": {
             "colorbar": {
              "outlinewidth": 0,
              "ticks": ""
             }
            },
            "type": "scatterpolar"
           }
          ],
          "scatterpolargl": [
           {
            "marker": {
             "colorbar": {
              "outlinewidth": 0,
              "ticks": ""
             }
            },
            "type": "scatterpolargl"
           }
          ],
          "scatterternary": [
           {
            "marker": {
             "colorbar": {
              "outlinewidth": 0,
              "ticks": ""
             }
            },
            "type": "scatterternary"
           }
          ],
          "surface": [
           {
            "colorbar": {
             "outlinewidth": 0,
             "ticks": ""
            },
            "colorscale": [
             [
              0,
              "#0d0887"
             ],
             [
              0.1111111111111111,
              "#46039f"
             ],
             [
              0.2222222222222222,
              "#7201a8"
             ],
             [
              0.3333333333333333,
              "#9c179e"
             ],
             [
              0.4444444444444444,
              "#bd3786"
             ],
             [
              0.5555555555555556,
              "#d8576b"
             ],
             [
              0.6666666666666666,
              "#ed7953"
             ],
             [
              0.7777777777777778,
              "#fb9f3a"
             ],
             [
              0.8888888888888888,
              "#fdca26"
             ],
             [
              1,
              "#f0f921"
             ]
            ],
            "type": "surface"
           }
          ],
          "table": [
           {
            "cells": {
             "fill": {
              "color": "#EBF0F8"
             },
             "line": {
              "color": "white"
             }
            },
            "header": {
             "fill": {
              "color": "#C8D4E3"
             },
             "line": {
              "color": "white"
             }
            },
            "type": "table"
           }
          ]
         },
         "layout": {
          "annotationdefaults": {
           "arrowcolor": "#2a3f5f",
           "arrowhead": 0,
           "arrowwidth": 1
          },
          "autotypenumbers": "strict",
          "coloraxis": {
           "colorbar": {
            "outlinewidth": 0,
            "ticks": ""
           }
          },
          "colorscale": {
           "diverging": [
            [
             0,
             "#8e0152"
            ],
            [
             0.1,
             "#c51b7d"
            ],
            [
             0.2,
             "#de77ae"
            ],
            [
             0.3,
             "#f1b6da"
            ],
            [
             0.4,
             "#fde0ef"
            ],
            [
             0.5,
             "#f7f7f7"
            ],
            [
             0.6,
             "#e6f5d0"
            ],
            [
             0.7,
             "#b8e186"
            ],
            [
             0.8,
             "#7fbc41"
            ],
            [
             0.9,
             "#4d9221"
            ],
            [
             1,
             "#276419"
            ]
           ],
           "sequential": [
            [
             0,
             "#0d0887"
            ],
            [
             0.1111111111111111,
             "#46039f"
            ],
            [
             0.2222222222222222,
             "#7201a8"
            ],
            [
             0.3333333333333333,
             "#9c179e"
            ],
            [
             0.4444444444444444,
             "#bd3786"
            ],
            [
             0.5555555555555556,
             "#d8576b"
            ],
            [
             0.6666666666666666,
             "#ed7953"
            ],
            [
             0.7777777777777778,
             "#fb9f3a"
            ],
            [
             0.8888888888888888,
             "#fdca26"
            ],
            [
             1,
             "#f0f921"
            ]
           ],
           "sequentialminus": [
            [
             0,
             "#0d0887"
            ],
            [
             0.1111111111111111,
             "#46039f"
            ],
            [
             0.2222222222222222,
             "#7201a8"
            ],
            [
             0.3333333333333333,
             "#9c179e"
            ],
            [
             0.4444444444444444,
             "#bd3786"
            ],
            [
             0.5555555555555556,
             "#d8576b"
            ],
            [
             0.6666666666666666,
             "#ed7953"
            ],
            [
             0.7777777777777778,
             "#fb9f3a"
            ],
            [
             0.8888888888888888,
             "#fdca26"
            ],
            [
             1,
             "#f0f921"
            ]
           ]
          },
          "colorway": [
           "#636efa",
           "#EF553B",
           "#00cc96",
           "#ab63fa",
           "#FFA15A",
           "#19d3f3",
           "#FF6692",
           "#B6E880",
           "#FF97FF",
           "#FECB52"
          ],
          "font": {
           "color": "#2a3f5f"
          },
          "geo": {
           "bgcolor": "white",
           "lakecolor": "white",
           "landcolor": "#E5ECF6",
           "showlakes": true,
           "showland": true,
           "subunitcolor": "white"
          },
          "hoverlabel": {
           "align": "left"
          },
          "hovermode": "closest",
          "mapbox": {
           "style": "light"
          },
          "paper_bgcolor": "white",
          "plot_bgcolor": "#E5ECF6",
          "polar": {
           "angularaxis": {
            "gridcolor": "white",
            "linecolor": "white",
            "ticks": ""
           },
           "bgcolor": "#E5ECF6",
           "radialaxis": {
            "gridcolor": "white",
            "linecolor": "white",
            "ticks": ""
           }
          },
          "scene": {
           "xaxis": {
            "backgroundcolor": "#E5ECF6",
            "gridcolor": "white",
            "gridwidth": 2,
            "linecolor": "white",
            "showbackground": true,
            "ticks": "",
            "zerolinecolor": "white"
           },
           "yaxis": {
            "backgroundcolor": "#E5ECF6",
            "gridcolor": "white",
            "gridwidth": 2,
            "linecolor": "white",
            "showbackground": true,
            "ticks": "",
            "zerolinecolor": "white"
           },
           "zaxis": {
            "backgroundcolor": "#E5ECF6",
            "gridcolor": "white",
            "gridwidth": 2,
            "linecolor": "white",
            "showbackground": true,
            "ticks": "",
            "zerolinecolor": "white"
           }
          },
          "shapedefaults": {
           "line": {
            "color": "#2a3f5f"
           }
          },
          "ternary": {
           "aaxis": {
            "gridcolor": "white",
            "linecolor": "white",
            "ticks": ""
           },
           "baxis": {
            "gridcolor": "white",
            "linecolor": "white",
            "ticks": ""
           },
           "bgcolor": "#E5ECF6",
           "caxis": {
            "gridcolor": "white",
            "linecolor": "white",
            "ticks": ""
           }
          },
          "title": {
           "x": 0.05
          },
          "xaxis": {
           "automargin": true,
           "gridcolor": "white",
           "linecolor": "white",
           "ticks": "",
           "title": {
            "standoff": 15
           },
           "zerolinecolor": "white",
           "zerolinewidth": 2
          },
          "yaxis": {
           "automargin": true,
           "gridcolor": "white",
           "linecolor": "white",
           "ticks": "",
           "title": {
            "standoff": 15
           },
           "zerolinecolor": "white",
           "zerolinewidth": 2
          }
         }
        },
        "xaxis": {
         "anchor": "y",
         "domain": [
          0,
          1
         ],
         "title": {
          "text": "pickup_day"
         }
        },
        "yaxis": {
         "anchor": "x",
         "domain": [
          0,
          1
         ],
         "title": {
          "text": "value"
         }
        }
       }
      }
     },
     "metadata": {},
     "output_type": "display_data"
    }
   ],
   "source": [
    "df.groupBy('pickup_day').count().toPandas().sort_values(by='pickup_day').set_index('pickup_day').plot()"
   ]
  },
  {
   "cell_type": "markdown",
   "metadata": {},
   "source": [
    "## Model Training"
   ]
  },
  {
   "cell_type": "code",
   "execution_count": 31,
   "metadata": {},
   "outputs": [],
   "source": [
    "from pyspark.ml.regression import GeneralizedLinearRegression,GeneralizedLinearRegressionModel\n",
    "from pyspark.ml.evaluation import RegressionEvaluator\n",
    "from pyspark.ml.tuning import TrainValidationSplit, ParamGridBuilder\n",
    "from pyspark.ml.linalg import Vectors"
   ]
  },
  {
   "cell_type": "markdown",
   "metadata": {},
   "source": [
    "#### Trip Duration Model"
   ]
  },
  {
   "cell_type": "code",
   "execution_count": 32,
   "metadata": {},
   "outputs": [
    {
     "name": "stdout",
     "output_type": "stream",
     "text": [
      "+--------------------+-------------------+\n",
      "|            features|              label|\n",
      "+--------------------+-------------------+\n",
      "|[0.0,1.01,1.0,0.1...|0.07166666666666667|\n",
      "|[0.0,3.55,1.0,0.3...|0.26861111111111113|\n",
      "|[0.0,5.2,1.0,0.39...| 0.4311111111111111|\n",
      "|[0.0,4.68,1.0,0.3...| 0.3136111111111111|\n",
      "|[0.0,4.2,1.0,0.39...| 0.3063888888888889|\n",
      "+--------------------+-------------------+\n",
      "only showing top 5 rows\n",
      "\n"
     ]
    }
   ],
   "source": [
    "assembler = VectorAssembler(inputCols=['pickup_day_shift','trip_distance','pickup_day','avg(trip_duration)'],\n",
    "                            outputCol=\"features\")\n",
    "df_train = assembler.transform(df).select([\"features\",col(\"trip_duration\").alias(\"label\")])\n",
    "df_train.show(5)"
   ]
  },
  {
   "cell_type": "code",
   "execution_count": 33,
   "metadata": {},
   "outputs": [],
   "source": [
    "glr = GeneralizedLinearRegression(family=\"gaussian\")\n",
    "\n",
    "paramGrid = ParamGridBuilder().addGrid(glr.regParam, [0.1, 0.01]).build()\n",
    "\n",
    "tvs = TrainValidationSplit(estimator=glr,\n",
    "                           estimatorParamMaps=paramGrid,\n",
    "                           evaluator=RegressionEvaluator(),\n",
    "                           parallelism=1,\n",
    "                           seed=42,\n",
    "                           trainRatio=0.8)"
   ]
  },
  {
   "cell_type": "code",
   "execution_count": 34,
   "metadata": {},
   "outputs": [],
   "source": [
    "model = tvs.fit(df_train)"
   ]
  },
  {
   "cell_type": "code",
   "execution_count": 35,
   "metadata": {},
   "outputs": [
    {
     "data": {
      "text/plain": [
       "Coefficients:\n",
       "           Feature Estimate Std Error  T Value P Value\n",
       "       (Intercept)   0.0137    0.0002  70.1213  0.0000\n",
       "  pickup_day_shift   0.0079    0.0000 183.4332  0.0000\n",
       "     trip_distance   0.0255    0.0001 483.1267  0.0000\n",
       "        pickup_day  -0.0004    0.0000 -75.4817  0.0000\n",
       "avg(trip_duration)   0.6119    0.0009 707.4565  0.0000\n",
       "\n",
       "(Dispersion parameter for gaussian family taken to be 0.0048)\n",
       "   Null deviance: 22990.4339 on 1855604 degrees of freedom\n",
       "Residual deviance: 8916.1886 on 1855604 degrees of freedom\n",
       "AIC: -4639423.5329"
      ]
     },
     "execution_count": 35,
     "metadata": {},
     "output_type": "execute_result"
    }
   ],
   "source": [
    "model.bestModel.summary"
   ]
  },
  {
   "cell_type": "code",
   "execution_count": 36,
   "metadata": {},
   "outputs": [
    {
     "data": {
      "text/html": [
       "<div>\n",
       "<style scoped>\n",
       "    .dataframe tbody tr th:only-of-type {\n",
       "        vertical-align: middle;\n",
       "    }\n",
       "\n",
       "    .dataframe tbody tr th {\n",
       "        vertical-align: top;\n",
       "    }\n",
       "\n",
       "    .dataframe thead th {\n",
       "        text-align: right;\n",
       "    }\n",
       "</style>\n",
       "<table border=\"1\" class=\"dataframe\">\n",
       "  <thead>\n",
       "    <tr style=\"text-align: right;\">\n",
       "      <th></th>\n",
       "      <th>rmse</th>\n",
       "      <th>regParam</th>\n",
       "    </tr>\n",
       "  </thead>\n",
       "  <tbody>\n",
       "    <tr>\n",
       "      <th>0</th>\n",
       "      <td>0.075355</td>\n",
       "      <td>0.10</td>\n",
       "    </tr>\n",
       "    <tr>\n",
       "      <th>1</th>\n",
       "      <td>0.069256</td>\n",
       "      <td>0.01</td>\n",
       "    </tr>\n",
       "  </tbody>\n",
       "</table>\n",
       "</div>"
      ],
      "text/plain": [
       "       rmse  regParam\n",
       "0  0.075355      0.10\n",
       "1  0.069256      0.01"
      ]
     },
     "execution_count": 36,
     "metadata": {},
     "output_type": "execute_result"
    }
   ],
   "source": [
    "params = [{p.name: v for p, v in m.items()} for m in model.getEstimatorParamMaps()]\n",
    "pd.DataFrame.from_dict([\n",
    "    {model.getEvaluator().getMetricName(): metric, **ps} \n",
    "    for ps, metric in zip(params, model.validationMetrics)\n",
    "])"
   ]
  },
  {
   "cell_type": "code",
   "execution_count": 39,
   "metadata": {},
   "outputs": [],
   "source": [
    "model.write().overwrite().save(\"file:///C:\\\\Users\\\\Olist\\\\OneDrive\\\\Ambiente de Trabalho\\\\Projects\\\\ny_cab_app\\\\ML model Development\\\\model_trip_duration\")"
   ]
  },
  {
   "cell_type": "code",
   "execution_count": null,
   "metadata": {},
   "outputs": [],
   "source": [
    "persistedModel = GeneralizedLinearRegressionModel.load('file:///C:\\\\Users\\\\Olist\\\\OneDrive\\\\Ambiente de Trabalho\\\\Projects\\\\ny_cab_app\\\\ML model Development\\\\model_trip_duration\\\\bestModel')"
   ]
  },
  {
   "cell_type": "code",
   "execution_count": null,
   "metadata": {},
   "outputs": [],
   "source": [
    "testData =   np.array([1,3,1,1])"
   ]
  },
  {
   "cell_type": "code",
   "execution_count": null,
   "metadata": {},
   "outputs": [
    {
     "data": {
      "text/plain": [
       "0.7095633960429458"
      ]
     },
     "execution_count": 61,
     "metadata": {},
     "output_type": "execute_result"
    }
   ],
   "source": [
    "persistedModel.predict(Vectors.dense(testData))"
   ]
  },
  {
   "cell_type": "markdown",
   "metadata": {},
   "source": [
    "#### Fare Amount Model"
   ]
  },
  {
   "cell_type": "code",
   "execution_count": 40,
   "metadata": {},
   "outputs": [
    {
     "name": "stdout",
     "output_type": "stream",
     "text": [
      "+--------------------+-----+\n",
      "|            features|label|\n",
      "+--------------------+-----+\n",
      "|[1.01,0.071666666...|  5.5|\n",
      "|[3.55,0.268611111...| 14.0|\n",
      "|[5.2,0.4311111111...| 20.5|\n",
      "|[4.68,0.313611111...| 16.5|\n",
      "|[4.2,0.3063888888...| 15.5|\n",
      "+--------------------+-----+\n",
      "only showing top 5 rows\n",
      "\n"
     ]
    }
   ],
   "source": [
    "assembler = VectorAssembler(inputCols=['trip_distance','trip_duration'],\n",
    "                            outputCol=\"features\")\n",
    "df_train_f = assembler.transform(df).select([\"features\",col(\"fare_amount\").alias(\"label\")])\n",
    "df_train_f.show(5)"
   ]
  },
  {
   "cell_type": "code",
   "execution_count": 41,
   "metadata": {},
   "outputs": [],
   "source": [
    "glr = GeneralizedLinearRegression(family=\"gaussian\")\n",
    "paramGrid = ParamGridBuilder().addGrid(glr.regParam, [0.1, 0.01]).build()\n",
    "tvs = TrainValidationSplit(estimator=glr,\n",
    "                           estimatorParamMaps=paramGrid,\n",
    "                           evaluator=RegressionEvaluator(),\n",
    "                           parallelism=1,\n",
    "                           seed=42,\n",
    "                           trainRatio=0.8)"
   ]
  },
  {
   "cell_type": "code",
   "execution_count": 42,
   "metadata": {},
   "outputs": [
    {
     "data": {
      "text/plain": [
       "Coefficients:\n",
       "           Feature Estimate Std Error  T Value P Value\n",
       "       (Intercept)   0.0137    0.0002  70.1213  0.0000\n",
       "  pickup_day_shift   0.0079    0.0000 183.4332  0.0000\n",
       "     trip_distance   0.0255    0.0001 483.1267  0.0000\n",
       "        pickup_day  -0.0004    0.0000 -75.4817  0.0000\n",
       "avg(trip_duration)   0.6119    0.0009 707.4565  0.0000\n",
       "\n",
       "(Dispersion parameter for gaussian family taken to be 0.0048)\n",
       "   Null deviance: 22990.4339 on 1855604 degrees of freedom\n",
       "Residual deviance: 8916.1886 on 1855604 degrees of freedom\n",
       "AIC: -4639423.5329"
      ]
     },
     "execution_count": 42,
     "metadata": {},
     "output_type": "execute_result"
    }
   ],
   "source": [
    "model = tvs.fit(df_train)\n",
    "model.bestModel.summary"
   ]
  },
  {
   "cell_type": "code",
   "execution_count": 43,
   "metadata": {},
   "outputs": [
    {
     "data": {
      "text/html": [
       "<div>\n",
       "<style scoped>\n",
       "    .dataframe tbody tr th:only-of-type {\n",
       "        vertical-align: middle;\n",
       "    }\n",
       "\n",
       "    .dataframe tbody tr th {\n",
       "        vertical-align: top;\n",
       "    }\n",
       "\n",
       "    .dataframe thead th {\n",
       "        text-align: right;\n",
       "    }\n",
       "</style>\n",
       "<table border=\"1\" class=\"dataframe\">\n",
       "  <thead>\n",
       "    <tr style=\"text-align: right;\">\n",
       "      <th></th>\n",
       "      <th>rmse</th>\n",
       "      <th>regParam</th>\n",
       "    </tr>\n",
       "  </thead>\n",
       "  <tbody>\n",
       "    <tr>\n",
       "      <th>0</th>\n",
       "      <td>0.075355</td>\n",
       "      <td>0.10</td>\n",
       "    </tr>\n",
       "    <tr>\n",
       "      <th>1</th>\n",
       "      <td>0.069256</td>\n",
       "      <td>0.01</td>\n",
       "    </tr>\n",
       "  </tbody>\n",
       "</table>\n",
       "</div>"
      ],
      "text/plain": [
       "       rmse  regParam\n",
       "0  0.075355      0.10\n",
       "1  0.069256      0.01"
      ]
     },
     "execution_count": 43,
     "metadata": {},
     "output_type": "execute_result"
    }
   ],
   "source": [
    "params = [{p.name: v for p, v in m.items()} for m in model.getEstimatorParamMaps()]\n",
    "pd.DataFrame.from_dict([\n",
    "    {model.getEvaluator().getMetricName(): metric, **ps} \n",
    "    for ps, metric in zip(params, model.validationMetrics)\n",
    "])"
   ]
  },
  {
   "cell_type": "code",
   "execution_count": 44,
   "metadata": {},
   "outputs": [],
   "source": [
    "model.write().save(\"file:///C:\\\\Users\\\\Olist\\\\OneDrive\\\\Ambiente de Trabalho\\\\Projects\\\\ny_cab_app\\\\ML model Development\\\\model_fare_amount\")"
   ]
  },
  {
   "cell_type": "code",
   "execution_count": 45,
   "metadata": {},
   "outputs": [],
   "source": [
    "spark.stop()"
   ]
  }
 ],
 "metadata": {
  "kernelspec": {
   "display_name": "Python 3.9.2 64-bit",
   "language": "python",
   "name": "python3"
  },
  "language_info": {
   "codemirror_mode": {
    "name": "ipython",
    "version": 3
   },
   "file_extension": ".py",
   "mimetype": "text/x-python",
   "name": "python",
   "nbconvert_exporter": "python",
   "pygments_lexer": "ipython3",
   "version": "3.9.2 (tags/v3.9.2:1a79785, Feb 19 2021, 13:44:55) [MSC v.1928 64 bit (AMD64)]"
  },
  "orig_nbformat": 4,
  "vscode": {
   "interpreter": {
    "hash": "d94dd623ed3b60412e923742e7bd0b8a9d7db377f4fcacb3cc176f98d3cd8c58"
   }
  }
 },
 "nbformat": 4,
 "nbformat_minor": 2
}
